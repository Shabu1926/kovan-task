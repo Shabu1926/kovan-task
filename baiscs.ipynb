{
 "cells": [
  {
   "cell_type": "markdown",
   "metadata": {},
   "source": [
    "# nested dictionary example"
   ]
  },
  {
   "cell_type": "code",
   "execution_count": 59,
   "metadata": {},
   "outputs": [
    {
     "name": "stdout",
     "output_type": "stream",
     "text": [
      "['Tobias', 'Linus']\n"
     ]
    }
   ],
   "source": [
    "myfamily = {\n",
    "  \"child1\" : {\n",
    "    \"name\" : \"Emil\",\n",
    "    \"year\" : 2004\n",
    "  },\n",
    "  \"child2\" : {\n",
    "    \"name\" : \"Tobias\",\n",
    "    \"year\" : 2007\n",
    "  },\n",
    "  \"child3\" : {\n",
    "    \"name\" : \"Linus\",\n",
    "    \"year\" : 2011\n",
    "  }\n",
    "}\n",
    "lst = []\n",
    "for x,y in myfamily.items():\n",
    "    #print(y)\n",
    "    \n",
    "    for w,z in y.items():\n",
    "        \n",
    "        if w=='year':\n",
    "            if z%2!=0:\n",
    "              lst.append(y['name'])\n",
    "print(lst)\n"
   ]
  },
  {
   "cell_type": "markdown",
   "metadata": {},
   "source": [
    "# Remove"
   ]
  },
  {
   "cell_type": "code",
   "execution_count": 60,
   "metadata": {},
   "outputs": [
    {
     "name": "stdout",
     "output_type": "stream",
     "text": [
      "['apple', 'cherry', 'banana', 'kiwi']\n"
     ]
    }
   ],
   "source": [
    "thislist = [\"apple\", \"banana\", \"cherry\", \"banana\", \"kiwi\"]\n",
    "thislist.remove(\"banana\")\n",
    "print(thislist)"
   ]
  },
  {
   "cell_type": "markdown",
   "metadata": {},
   "source": [
    "## specified index"
   ]
  },
  {
   "cell_type": "code",
   "execution_count": 61,
   "metadata": {},
   "outputs": [
    {
     "name": "stdout",
     "output_type": "stream",
     "text": [
      "['apple', 'cherry']\n",
      "['banana', 'cherry']\n",
      "['apple', 'banana']\n"
     ]
    }
   ],
   "source": [
    "thislist = [\"apple\", \"banana\", \"cherry\"]\n",
    "thislist.pop(1)\n",
    "print(thislist)\n",
    "\n",
    "thislist = [\"apple\", \"banana\", \"cherry\"]\n",
    "del thislist[0]\n",
    "print(thislist)\n",
    "\n",
    "#pop element at last \n",
    "thislist = [\"apple\", \"banana\", \"cherry\"]\n",
    "thislist.pop()\n",
    "print(thislist)"
   ]
  },
  {
   "cell_type": "markdown",
   "metadata": {},
   "source": [
    "## delete entire list"
   ]
  },
  {
   "cell_type": "code",
   "execution_count": 62,
   "metadata": {},
   "outputs": [
    {
     "name": "stdout",
     "output_type": "stream",
     "text": [
      "[]\n"
     ]
    }
   ],
   "source": [
    "thislist = [\"apple\", \"banana\", \"cherry\"]\n",
    "del thislist\n",
    "\n",
    "thislist = [\"apple\", \"banana\", \"cherry\",\"mango\"]\n",
    "thislist.clear()\n",
    "print(thislist)"
   ]
  },
  {
   "cell_type": "markdown",
   "metadata": {},
   "source": [
    "## loop\n"
   ]
  },
  {
   "cell_type": "code",
   "execution_count": 63,
   "metadata": {},
   "outputs": [
    {
     "name": "stdout",
     "output_type": "stream",
     "text": [
      "apple\n",
      "banana\n",
      "cherry\n",
      "1\n",
      "apple\n",
      "banana\n",
      "cherry\n",
      "2\n",
      "apple\n",
      "banana\n",
      "cherry\n",
      "apple\n",
      "banana\n",
      "cherry\n"
     ]
    },
    {
     "data": {
      "text/plain": [
       "[None, None, None]"
      ]
     },
     "execution_count": 63,
     "metadata": {},
     "output_type": "execute_result"
    }
   ],
   "source": [
    "thislist = [\"apple\", \"banana\", \"cherry\"]\n",
    "for x in thislist:\n",
    "  print(x)\n",
    "  \n",
    "#range \n",
    "thislist = [1,\"apple\", \"banana\", \"cherry\"]\n",
    "for i in range(len(thislist)):\n",
    "  print(thislist[i])\n",
    "\n",
    "#while\n",
    "thislist = [2,\"apple\", \"banana\", \"cherry\"]\n",
    "i = 0\n",
    "while i < len(thislist):\n",
    "  print(thislist[i])\n",
    "  i = i + 1\n",
    "\n",
    "#list comprehnsion\n",
    "\n",
    "thislist = [\"apple\", \"banana\", \"cherry\"]\n",
    "[print(x) for x in thislist]"
   ]
  },
  {
   "cell_type": "markdown",
   "metadata": {},
   "source": [
    "#### list comprehension\n",
    "smaller syntax to create a list with values of another list"
   ]
  },
  {
   "cell_type": "code",
   "execution_count": 64,
   "metadata": {},
   "outputs": [
    {
     "name": "stdout",
     "output_type": "stream",
     "text": [
      "['apple', 'banana', 'mango']\n"
     ]
    }
   ],
   "source": [
    "fruits = [\"apple\", \"banana\", \"cherry\", \"kiwi\", \"mango\"]\n",
    "newlist = []\n",
    "\n",
    "for x in fruits:\n",
    "  if \"a\" in x:\n",
    "    newlist.append(x)\n",
    "\n",
    "print(newlist)\n",
    "\n"
   ]
  },
  {
   "cell_type": "markdown",
   "metadata": {},
   "source": [
    "instead"
   ]
  },
  {
   "cell_type": "code",
   "execution_count": 65,
   "metadata": {},
   "outputs": [
    {
     "name": "stdout",
     "output_type": "stream",
     "text": [
      "['apple', 'banana', 'mango']\n"
     ]
    }
   ],
   "source": [
    "\n",
    "fruits = [\"apple\", \"banana\", \"cherry\", \"kiwi\", \"mango\"]\n",
    "\n",
    "newlist = [x for x in fruits if \"a\" in x]\n",
    "\n",
    "print(newlist)"
   ]
  },
  {
   "cell_type": "code",
   "execution_count": 66,
   "metadata": {},
   "outputs": [
    {
     "name": "stdout",
     "output_type": "stream",
     "text": [
      "['cherry', 'kiwi']\n"
     ]
    }
   ],
   "source": [
    "newlist = [x for x in fruits if \"a\" not in x]\n",
    "print(newlist)"
   ]
  },
  {
   "cell_type": "code",
   "execution_count": 67,
   "metadata": {},
   "outputs": [
    {
     "name": "stdout",
     "output_type": "stream",
     "text": [
      "['APPLE', 'BANANA', 'CHERRY', 'KIWI', 'MANGO']\n"
     ]
    }
   ],
   "source": [
    "newlist = [x.upper() for x in fruits]\n",
    "print(newlist)"
   ]
  },
  {
   "cell_type": "markdown",
   "metadata": {},
   "source": [
    "## sort()"
   ]
  },
  {
   "cell_type": "code",
   "execution_count": 68,
   "metadata": {},
   "outputs": [
    {
     "name": "stdout",
     "output_type": "stream",
     "text": [
      "['banana', 'kiwi', 'mango', 'orange', 'pineapple']\n",
      "\n",
      "\n",
      "[23, 50, 65, 82, 100]\n",
      "\n",
      "\n",
      "['pineapple', 'orange', 'mango', 'kiwi', 'banana']\n",
      "\n",
      "\n",
      "['cherry', 'Kiwi', 'Orange', 'banana']\n"
     ]
    }
   ],
   "source": [
    "thislist = [\"orange\", \"mango\", \"kiwi\", \"pineapple\", \"banana\"]\n",
    "thislist.sort()\n",
    "print(thislist)\n",
    "print(\"\\n\")\n",
    "\n",
    "#numeric asc\n",
    "thislist = [100, 50, 65, 82, 23]\n",
    "thislist.sort()\n",
    "print(thislist)\n",
    "print(\"\\n\")\n",
    "#num desc\n",
    "thislist = [\"orange\", \"mango\", \"kiwi\", \"pineapple\", \"banana\"]\n",
    "thislist.sort(reverse = True)\n",
    "print(thislist)\n",
    "print(\"\\n\")\n",
    "#reverse\n",
    "thislist = [\"banana\", \"Orange\", \"Kiwi\", \"cherry\"]\n",
    "thislist.reverse()\n",
    "print(thislist)"
   ]
  },
  {
   "cell_type": "markdown",
   "metadata": {},
   "source": [
    "#### Sort the list based on how close the number is to 50:"
   ]
  },
  {
   "cell_type": "code",
   "execution_count": 69,
   "metadata": {},
   "outputs": [
    {
     "name": "stdout",
     "output_type": "stream",
     "text": [
      "[0, 15, 27, 32, 50]\n"
     ]
    }
   ],
   "source": [
    "\n",
    "list1=[100,50,65,82,23]\n",
    "l=[]\n",
    "for i in list1:\n",
    "    diff=abs(i-50)\n",
    "    \n",
    "    \n",
    "    l.append(diff)\n",
    "l.sort()\n",
    "print(l)"
   ]
  },
  {
   "cell_type": "markdown",
   "metadata": {},
   "source": [
    "## COPY"
   ]
  },
  {
   "cell_type": "code",
   "execution_count": 70,
   "metadata": {},
   "outputs": [
    {
     "name": "stdout",
     "output_type": "stream",
     "text": [
      "['apple', 'banana', 'cherry']\n",
      "\n",
      "\n",
      "['apple', 'banana', 'cherry']\n",
      "\n",
      "\n",
      "['apple', 'banana', 'cherry']\n"
     ]
    }
   ],
   "source": [
    "#copy() method\n",
    "thislist = [\"apple\", \"banana\", \"cherry\"]\n",
    "mylist = thislist.copy()\n",
    "print(mylist)\n",
    "print(\"\\n\")\n",
    "\n",
    "#list constructor method\n",
    "thislist = [\"apple\", \"banana\", \"cherry\"]\n",
    "mylist = list(thislist)\n",
    "print(mylist)\n",
    "print(\"\\n\")\n",
    "#slice operator\n",
    "mylist=thislist[0:3]\n",
    "print(mylist)\n"
   ]
  },
  {
   "cell_type": "markdown",
   "metadata": {},
   "source": [
    "## JOIN lists"
   ]
  },
  {
   "cell_type": "code",
   "execution_count": 71,
   "metadata": {},
   "outputs": [
    {
     "name": "stdout",
     "output_type": "stream",
     "text": [
      "['a', 'b', 'c', 1, 2, 3]\n"
     ]
    }
   ],
   "source": [
    "list1 = [\"a\", \"b\", \"c\"]\n",
    "list2 = [1, 2, 3]\n",
    "\n",
    "list3 = list1 + list2\n",
    "print(list3)"
   ]
  },
  {
   "cell_type": "code",
   "execution_count": 72,
   "metadata": {},
   "outputs": [
    {
     "name": "stdout",
     "output_type": "stream",
     "text": [
      "['a', 'b', 'c', [1, 2, 3]]\n"
     ]
    }
   ],
   "source": [
    "#apppend\n",
    "list1 = [\"a\", \"b\" , \"c\"]\n",
    "list2 = [1, 2, 3]\n",
    "\n",
    "#for x in list2:\n",
    "  #list1.append(x)\n",
    "list1.append(list2)\n",
    "\n",
    "print(list1)"
   ]
  },
  {
   "cell_type": "code",
   "execution_count": 73,
   "metadata": {},
   "outputs": [
    {
     "name": "stdout",
     "output_type": "stream",
     "text": [
      "['a', 'b', 'c', 1, 2, 3]\n"
     ]
    }
   ],
   "source": [
    "#extend\n",
    "list1 = [\"a\", \"b\" , \"c\"]\n",
    "list2 = [1, 2, 3]\n",
    "\n",
    "list1.extend(list2)\n",
    "print(list1)"
   ]
  },
  {
   "cell_type": "markdown",
   "metadata": {},
   "source": [
    "# TUPLE"
   ]
  },
  {
   "cell_type": "code",
   "execution_count": 74,
   "metadata": {},
   "outputs": [
    {
     "name": "stdout",
     "output_type": "stream",
     "text": [
      "('abc', 1, 'def', 2, 9)\n"
     ]
    }
   ],
   "source": [
    "T=(\"abc\",1,\"def\",2,9)\n",
    "print(T)"
   ]
  },
  {
   "cell_type": "markdown",
   "metadata": {},
   "source": [
    "len"
   ]
  },
  {
   "cell_type": "code",
   "execution_count": 75,
   "metadata": {},
   "outputs": [
    {
     "name": "stdout",
     "output_type": "stream",
     "text": [
      "5\n"
     ]
    }
   ],
   "source": [
    "T=(\"abc\",1,\"def\",2,9)\n",
    "print(len(T))"
   ]
  },
  {
   "cell_type": "markdown",
   "metadata": {},
   "source": [
    "### Tuple constructor "
   ]
  },
  {
   "cell_type": "code",
   "execution_count": 76,
   "metadata": {},
   "outputs": [
    {
     "name": "stdout",
     "output_type": "stream",
     "text": [
      "('abc', 1, 'def', 2, 9)\n"
     ]
    }
   ],
   "source": [
    "\n",
    "P=tuple((\"abc\",1,\"def\",2,9))\n",
    "print(P)"
   ]
  },
  {
   "cell_type": "markdown",
   "metadata": {},
   "source": [
    "### ACCESS"
   ]
  },
  {
   "cell_type": "code",
   "execution_count": 77,
   "metadata": {},
   "outputs": [
    {
     "name": "stdout",
     "output_type": "stream",
     "text": [
      "banana\n",
      "\n",
      "\n",
      "mango\n",
      "\n",
      "\n",
      "('cherry', 'orange', 'kiwi')\n",
      "\n",
      "\n",
      "('apple', 'banana', 'cherry', 'orange')\n",
      "\n",
      "\n",
      "('cherry', 'orange', 'kiwi', 'melon', 'mango')\n"
     ]
    }
   ],
   "source": [
    "# index\n",
    "thistuple = (\"apple\", \"banana\", \"cherry\", \"orange\", \"kiwi\", \"melon\", \"mango\")\n",
    "print(thistuple[1])\n",
    "print(\"\\n\")\n",
    "print(thistuple[-1])\n",
    "print(\"\\n\")\n",
    "print(thistuple[2:5])\n",
    "print(\"\\n\")\n",
    "print(thistuple[:4])\n",
    "print(\"\\n\")\n",
    "print(thistuple[2:])"
   ]
  },
  {
   "cell_type": "code",
   "execution_count": 78,
   "metadata": {},
   "outputs": [
    {
     "name": "stdout",
     "output_type": "stream",
     "text": [
      "Yes, 'apple' is in the fruits tuple\n"
     ]
    }
   ],
   "source": [
    "#check\n",
    "thistuple = (\"apple\", \"banana\", \"cherry\")\n",
    "if \"apple\" in thistuple:\n",
    "  print(\"Yes, 'apple' is in the fruits tuple\")"
   ]
  },
  {
   "cell_type": "markdown",
   "metadata": {},
   "source": [
    "## Change tuple values\n",
    "You can change the values of a tuple by creating a new tuple with the updated values. or convert into list"
   ]
  },
  {
   "cell_type": "code",
   "execution_count": 79,
   "metadata": {},
   "outputs": [
    {
     "name": "stdout",
     "output_type": "stream",
     "text": [
      "('apple', 'kiwi', 'cherry')\n",
      "\n",
      "\n",
      "['apple', 'kiwi', 'cherry', 'orange']\n"
     ]
    }
   ],
   "source": [
    "x = (\"apple\", \"banana\", \"cherry\")\n",
    "y = list(x)\n",
    "y[1] = \"kiwi\"\n",
    "x = tuple(y)\n",
    "\n",
    "print(x)\n",
    "print(\"\\n\")\n",
    "\n",
    "\n",
    "z = list(x)\n",
    "z.append(\"orange\")\n",
    "thistuple = tuple(z)\n",
    "print(z)"
   ]
  },
  {
   "cell_type": "markdown",
   "metadata": {},
   "source": [
    "#### add tuple to tuple\n"
   ]
  },
  {
   "cell_type": "code",
   "execution_count": 80,
   "metadata": {},
   "outputs": [
    {
     "name": "stdout",
     "output_type": "stream",
     "text": [
      "('mango', 'watermelon', 'apple', 'banana', 'cherry')\n"
     ]
    }
   ],
   "source": [
    "x = (\"apple\", \"banana\", \"cherry\")\n",
    "y=(\"mango\",\"watermelon\")\n",
    "y+=x\n",
    "print(y)"
   ]
  },
  {
   "cell_type": "markdown",
   "metadata": {},
   "source": [
    "### remove items"
   ]
  },
  {
   "cell_type": "code",
   "execution_count": 81,
   "metadata": {},
   "outputs": [
    {
     "name": "stdout",
     "output_type": "stream",
     "text": [
      "('banana', 'cherry')\n",
      "\n",
      "\n"
     ]
    },
    {
     "ename": "NameError",
     "evalue": "name 't' is not defined",
     "output_type": "error",
     "traceback": [
      "\u001b[1;31m---------------------------------------------------------------------------\u001b[0m",
      "\u001b[1;31mNameError\u001b[0m                                 Traceback (most recent call last)",
      "Cell \u001b[1;32mIn[81], line 12\u001b[0m\n\u001b[0;32m     10\u001b[0m t \u001b[38;5;241m=\u001b[39m (\u001b[38;5;124m\"\u001b[39m\u001b[38;5;124mapple\u001b[39m\u001b[38;5;124m\"\u001b[39m, \u001b[38;5;124m\"\u001b[39m\u001b[38;5;124mbanana\u001b[39m\u001b[38;5;124m\"\u001b[39m, \u001b[38;5;124m\"\u001b[39m\u001b[38;5;124mcherry\u001b[39m\u001b[38;5;124m\"\u001b[39m)\n\u001b[0;32m     11\u001b[0m \u001b[38;5;28;01mdel\u001b[39;00m t\n\u001b[1;32m---> 12\u001b[0m \u001b[38;5;28mprint\u001b[39m(\u001b[43mt\u001b[49m) \n",
      "\u001b[1;31mNameError\u001b[0m: name 't' is not defined"
     ]
    }
   ],
   "source": [
    "#tuple to list\n",
    "thistuple = (\"apple\", \"banana\", \"cherry\")\n",
    "y = list(thistuple)\n",
    "y.remove(\"apple\")\n",
    "thistuple = tuple(y)\n",
    "print(thistuple)\n",
    "print(\"\\n\")\n",
    "\n",
    "#del \n",
    "t = (\"apple\", \"banana\", \"cherry\")\n",
    "del t\n",
    "print(t) "
   ]
  },
  {
   "cell_type": "markdown",
   "metadata": {},
   "source": [
    "## UNPACK TUPLE\n",
    "assign value to tuple is packing\n",
    "fruits = (\"apple\", \"banana\", \"cherry\")\n",
    "\n",
    "# unpacking tuple is assigning value to variable\n",
    "fruits = (\"apple\", \"banana\", \"cherry\")\n",
    "(x,y,z)=fruits\n",
    "print(x,y,z) -> (\"apple\", \"banana\", \"cherry\")"
   ]
  },
  {
   "cell_type": "code",
   "execution_count": 22,
   "metadata": {},
   "outputs": [
    {
     "name": "stdout",
     "output_type": "stream",
     "text": [
      "apple\n",
      "banana\n",
      "['cherry', 'strawberry', 'raspberry']\n"
     ]
    }
   ],
   "source": [
    "#Assign the rest of the values as a list called \"red\":(asterik)\n",
    "\n",
    "fruits = (\"apple\", \"banana\", \"cherry\", \"strawberry\", \"raspberry\")\n",
    "\n",
    "(green, yellow, *red) = fruits\n",
    "\n",
    "print(green)\n",
    "print(yellow)\n",
    "print(red)"
   ]
  },
  {
   "cell_type": "markdown",
   "metadata": {},
   "source": [
    "# loop\n"
   ]
  },
  {
   "cell_type": "code",
   "execution_count": 26,
   "metadata": {},
   "outputs": [
    {
     "name": "stdout",
     "output_type": "stream",
     "text": [
      "apple\n",
      "banana\n",
      "cherry\n",
      "strawberry\n",
      "raspberry\n",
      "\n",
      "\n",
      "apple\n",
      "banana\n",
      "cherry\n",
      "strawberry\n",
      "raspberry\n",
      "\n",
      "\n",
      "apple\n",
      "banana\n",
      "cherry\n",
      "strawberry\n",
      "raspberry\n"
     ]
    }
   ],
   "source": [
    "#for\n",
    "fruits = (\"apple\", \"banana\", \"cherry\", \"strawberry\", \"raspberry\")\n",
    "for i in fruits:\n",
    "    print(i)\n",
    "print(\"\\n\")\n",
    "#for range\n",
    "for i in range(len(fruits)):\n",
    "    print(fruits[i])\n",
    "print(\"\\n\")\n",
    "#while\n",
    "i=0\n",
    "while i < len(fruits):\n",
    "    print(fruits[i])\n",
    "    i+=1"
   ]
  },
  {
   "cell_type": "markdown",
   "metadata": {},
   "source": [
    "## join tuple\n",
    "\n",
    "#### join() method concatenates all the items in the tuple into a single string.\n"
   ]
  },
  {
   "cell_type": "code",
   "execution_count": 31,
   "metadata": {},
   "outputs": [
    {
     "name": "stdout",
     "output_type": "stream",
     "text": [
      "('apple', 'banana', 'cherry', 'strawberry', 'raspberry')\n",
      "\n",
      "\n",
      "('apple', 'banana', 'cherry', 'apple', 'banana', 'cherry')\n"
     ]
    }
   ],
   "source": [
    "# using +\n",
    "t=(\"apple\", \"banana\", \"cherry\")\n",
    "u=(\"strawberry\", \"raspberry\")\n",
    "t+=u\n",
    "print(t)\n",
    "print(\"\\n\")\n",
    "\n",
    "#multiply\n",
    "a=(\"apple\", \"banana\", \"cherry\")\n",
    "y=a*2\n",
    "print(y)"
   ]
  },
  {
   "cell_type": "markdown",
   "metadata": {},
   "source": [
    "# SETS\n",
    "#A set is a collection which is unordered, unchangeable*, and unindexed."
   ]
  },
  {
   "cell_type": "markdown",
   "metadata": {},
   "source": [
    "##### add "
   ]
  },
  {
   "cell_type": "code",
   "execution_count": 34,
   "metadata": {},
   "outputs": [
    {
     "name": "stdout",
     "output_type": "stream",
     "text": [
      "{'cherry', 'apple', 'banana', 'orange'}\n",
      "\n",
      "\n",
      "{'banana', 'mango', 'pineapple', 'cherry', 'apple'}\n",
      "\n",
      "\n",
      "{'banana', 'kiwi', 'cherry', 'apple', 'orange'}\n"
     ]
    }
   ],
   "source": [
    "#add items\n",
    "thisset = {\"apple\", \"banana\", \"cherry\"}\n",
    "\n",
    "thisset.add(\"orange\")\n",
    "\n",
    "print(thisset)\n",
    "print(\"\\n\")\n",
    "\n",
    "# add sets\n",
    "thisset = {\"mango\", \"pineapple\"}\n",
    "fruits = {'apple', 'banana', 'cherry'}\n",
    "fruits.update(thisset) \n",
    "print(fruits)\n",
    "print(\"\\n\")\n",
    "\n",
    "#add any iterable\n",
    "thisset = {\"apple\", \"banana\", \"cherry\"}\n",
    "mylist = [\"kiwi\", \"orange\"]\n",
    "\n",
    "thisset.update(mylist)\n",
    "\n",
    "print(thisset)\n"
   ]
  },
  {
   "cell_type": "markdown",
   "metadata": {},
   "source": [
    "#### Remove items"
   ]
  },
  {
   "cell_type": "code",
   "execution_count": 41,
   "metadata": {},
   "outputs": [
    {
     "name": "stdout",
     "output_type": "stream",
     "text": [
      "{'cherry', 'apple'}\n",
      "\n",
      "\n",
      "{'cherry'}\n",
      "\n",
      "\n"
     ]
    },
    {
     "data": {
      "text/plain": [
       "'fruits = (\"apple\", \"banana\", \"cherry\", \"strawberry\", \"raspberry\")\\nx=fruits.pop()\\nprint(fruits)\\nprint(\"\\n\")\\n\\n#delete() or clear()\\nfruits.clear()\\ndel fruits'"
      ]
     },
     "execution_count": 41,
     "metadata": {},
     "output_type": "execute_result"
    }
   ],
   "source": [
    "#remove()\n",
    "thisset = {\"apple\", \"banana\", \"cherry\"}\n",
    "\n",
    "thisset.remove(\"banana\")\n",
    "\n",
    "print(thisset)\n",
    "print(\"\\n\")\n",
    "#discard()\n",
    "\n",
    "thisset.discard(\"apple\")\n",
    "print(thisset)\n",
    "print(\"\\n\")\n",
    "#pop() remove random value\n",
    "'''fruits = (\"apple\", \"banana\", \"cherry\", \"strawberry\", \"raspberry\")\n",
    "x=fruits.pop()\n",
    "print(fruits)\n",
    "print(\"\\n\")\n",
    "\n",
    "#delete() or clear()\n",
    "fruits.clear()\n",
    "del fruits'''"
   ]
  },
  {
   "cell_type": "markdown",
   "metadata": {},
   "source": [
    "# JOIN sets\n"
   ]
  },
  {
   "cell_type": "markdown",
   "metadata": {},
   "source": [
    "The union() and update() methods joins all items from both sets.\n",
    "\n",
    "The intersection() method keeps ONLY the duplicates.\n",
    "\n",
    "The difference() method keeps the items from the first set that are not in the other set(s).\n",
    "\n",
    "The symmetric_difference() method keeps all items EXCEPT the duplicates."
   ]
  },
  {
   "cell_type": "code",
   "execution_count": 42,
   "metadata": {},
   "outputs": [
    {
     "name": "stdout",
     "output_type": "stream",
     "text": [
      "{1, 2, 3, 'b', 'c', 'a'}\n"
     ]
    }
   ],
   "source": [
    "#union\n",
    "set1 = {\"a\", \"b\", \"c\"}\n",
    "set2 = {1, 2, 3}\n",
    "\n",
    "set3 = set1.union(set2)\n",
    "print(set3)"
   ]
  },
  {
   "cell_type": "code",
   "execution_count": 44,
   "metadata": {},
   "outputs": [
    {
     "name": "stdout",
     "output_type": "stream",
     "text": [
      "{1, 2, 3, 'b', 'c', 'a'}\n"
     ]
    }
   ],
   "source": [
    "#update\n",
    "set1 = {\"a\", \"b\", \"c\"}\n",
    "set2 = {1, 2, 3}\n",
    "\n",
    "set1.update(set2)\n",
    "print(set1)"
   ]
  },
  {
   "cell_type": "code",
   "execution_count": 45,
   "metadata": {},
   "outputs": [
    {
     "name": "stdout",
     "output_type": "stream",
     "text": [
      "{1, 3, 'b'}\n"
     ]
    }
   ],
   "source": [
    "#intersection\n",
    "set1 = {\"a\", \"b\", \"c\",1,3,7.9}\n",
    "set2 = {1, 2, 3,\"b\",\"d\",\"e\"}\n",
    "\n",
    "set3=set1.intersection(set2)\n",
    "print(set3)"
   ]
  },
  {
   "cell_type": "code",
   "execution_count": 46,
   "metadata": {},
   "outputs": [
    {
     "name": "stdout",
     "output_type": "stream",
     "text": [
      "{'c', 'a', 7.9}\n"
     ]
    }
   ],
   "source": [
    "#difference\n",
    "set1 = {\"a\", \"b\", \"c\",1,3,7.9}\n",
    "set2 = {1, 2, 3,\"b\",\"d\",\"e\"}\n",
    "\n",
    "set3=set1.difference(set2)\n",
    "print(set3)"
   ]
  },
  {
   "cell_type": "code",
   "execution_count": 47,
   "metadata": {},
   "outputs": [
    {
     "name": "stdout",
     "output_type": "stream",
     "text": [
      "{2, 7.9, 'c', 'a', 'd', 'e'}\n"
     ]
    }
   ],
   "source": [
    "#sym_diff\n",
    "set1 = {\"a\", \"b\", \"c\",1,3,7.9}\n",
    "set2 = {1, 2, 3,\"b\",\"d\",\"e\"}\n",
    "\n",
    "set3=set1.symmetric_difference(set2)\n",
    "print(set3)"
   ]
  },
  {
   "cell_type": "markdown",
   "metadata": {},
   "source": [
    "# Dictionary\n",
    "Dictionaries are used to store data values in key:value pairs.\n",
    "\n",
    "A dictionary is a collection which is ordered*, changeable and do not allow duplicates."
   ]
  },
  {
   "cell_type": "code",
   "execution_count": 49,
   "metadata": {},
   "outputs": [
    {
     "name": "stdout",
     "output_type": "stream",
     "text": [
      "{'brand': 'Ford', 'model': 'Mustang', 'year': 1964}\n",
      "3\n"
     ]
    }
   ],
   "source": [
    "thisdict = {\n",
    "  \"brand\": \"Ford\",\n",
    "  \"model\": \"Mustang\",\n",
    "  \"year\": 1964\n",
    "}\n",
    "print(thisdict)\n",
    "print(len(thisdict))"
   ]
  },
  {
   "cell_type": "markdown",
   "metadata": {},
   "source": [
    "### The dict() Constructor"
   ]
  },
  {
   "cell_type": "code",
   "execution_count": 50,
   "metadata": {},
   "outputs": [
    {
     "name": "stdout",
     "output_type": "stream",
     "text": [
      "{'name': 'John', 'age': 36, 'country': 'Norway'}\n"
     ]
    }
   ],
   "source": [
    "thisdict = dict(name = \"John\", age = 36, country = \"Norway\")\n",
    "print(thisdict)"
   ]
  },
  {
   "cell_type": "markdown",
   "metadata": {},
   "source": [
    "## Access"
   ]
  },
  {
   "cell_type": "code",
   "execution_count": 52,
   "metadata": {},
   "outputs": [
    {
     "name": "stdout",
     "output_type": "stream",
     "text": [
      "Mustang\n"
     ]
    }
   ],
   "source": [
    "thisdict = {\n",
    "  \"brand\": \"Ford\",\n",
    "  \"model\": \"Mustang\",\n",
    "  \"year\": 1964\n",
    "}\n",
    "x = thisdict.get(\"model\")\n",
    "print(x)"
   ]
  },
  {
   "cell_type": "markdown",
   "metadata": {},
   "source": [
    "get keys"
   ]
  },
  {
   "cell_type": "code",
   "execution_count": 54,
   "metadata": {},
   "outputs": [
    {
     "name": "stdout",
     "output_type": "stream",
     "text": [
      "dict_keys(['brand', 'model', 'year'])\n"
     ]
    }
   ],
   "source": [
    "x = thisdict.keys()\n",
    "print(x)"
   ]
  },
  {
   "cell_type": "markdown",
   "metadata": {},
   "source": [
    "get values"
   ]
  },
  {
   "cell_type": "code",
   "execution_count": 55,
   "metadata": {},
   "outputs": [
    {
     "name": "stdout",
     "output_type": "stream",
     "text": [
      "dict_values(['Ford', 'Mustang', 1964])\n"
     ]
    }
   ],
   "source": [
    "x = thisdict.values()\n",
    "print(x)"
   ]
  },
  {
   "cell_type": "markdown",
   "metadata": {},
   "source": [
    "#### Get Items\n",
    "The items() method will return each item in a dictionary, as tuples in a list."
   ]
  },
  {
   "cell_type": "code",
   "execution_count": 56,
   "metadata": {},
   "outputs": [
    {
     "name": "stdout",
     "output_type": "stream",
     "text": [
      "dict_items([('brand', 'Ford'), ('model', 'Mustang'), ('year', 1964)])\n"
     ]
    }
   ],
   "source": [
    "x = thisdict.items()\n",
    "print(x)"
   ]
  },
  {
   "cell_type": "code",
   "execution_count": 57,
   "metadata": {},
   "outputs": [
    {
     "name": "stdout",
     "output_type": "stream",
     "text": [
      "dict_items([('brand', 'Ford'), ('model', 'Mustang'), ('year', 1964)])\n",
      "dict_items([('brand', 'Ford'), ('model', 'Mustang'), ('year', 1964), ('color', 'red')])\n"
     ]
    }
   ],
   "source": [
    "# Add a new item to the original dictionary, and see that the items list gets updated as well:\n",
    "car = {\n",
    "\"brand\": \"Ford\",\n",
    "\"model\": \"Mustang\",\n",
    "\"year\": 1964\n",
    "}\n",
    "\n",
    "x = car.items()\n",
    "\n",
    "print(x) #before the change\n",
    "\n",
    "car[\"color\"] = \"red\"\n",
    "\n",
    "print(x) #after the change"
   ]
  },
  {
   "cell_type": "markdown",
   "metadata": {},
   "source": [
    "## Change Dictionary Items"
   ]
  },
  {
   "cell_type": "markdown",
   "metadata": {},
   "source": [
    "#### Change Values\n",
    "You can change the value of a specific item by referring to its key name: \n",
    "#### change and add items are same\n",
    "Adding an item to the dictionary is done by using a new index key and assigning a value to it:"
   ]
  },
  {
   "cell_type": "code",
   "execution_count": 59,
   "metadata": {},
   "outputs": [
    {
     "name": "stdout",
     "output_type": "stream",
     "text": [
      "{'brand': 'Ford', 'model': 'Mustang', 'year': 2018}\n"
     ]
    }
   ],
   "source": [
    "thisdict = {\n",
    "  \"brand\": \"Ford\",\n",
    "  \"model\": \"Mustang\",\n",
    "  \"year\": 1964\n",
    "}\n",
    "thisdict[\"year\"] = 2018\n",
    "print(thisdict)"
   ]
  },
  {
   "cell_type": "code",
   "execution_count": 60,
   "metadata": {},
   "outputs": [
    {
     "name": "stdout",
     "output_type": "stream",
     "text": [
      "{'brand': 'Ford', 'model': 'Mustang', 'year': 2018}\n",
      "{'brand': 'Ford', 'model': 'Mustang', 'year': 2020}\n"
     ]
    }
   ],
   "source": [
    "#Update Dictionary\n",
    "\n",
    "print(thisdict)\n",
    "thisdict.update({\"year\": 2020})\n",
    "print(thisdict)"
   ]
  },
  {
   "cell_type": "markdown",
   "metadata": {},
   "source": [
    "### Remove"
   ]
  },
  {
   "cell_type": "markdown",
   "metadata": {},
   "source": [
    "##### pop()\n",
    "method removes the item with the specified key name:"
   ]
  },
  {
   "cell_type": "code",
   "execution_count": 61,
   "metadata": {},
   "outputs": [
    {
     "name": "stdout",
     "output_type": "stream",
     "text": [
      "{'brand': 'Ford', 'year': 1964}\n"
     ]
    }
   ],
   "source": [
    "thisdict = {\n",
    "  \"brand\": \"Ford\",\n",
    "  \"model\": \"Mustang\",\n",
    "  \"year\": 1964\n",
    "}\n",
    "thisdict.pop(\"model\")\n",
    "print(thisdict)"
   ]
  },
  {
   "cell_type": "markdown",
   "metadata": {},
   "source": [
    "##### popitem()\n",
    "removes last inserted item"
   ]
  },
  {
   "cell_type": "code",
   "execution_count": 63,
   "metadata": {},
   "outputs": [
    {
     "name": "stdout",
     "output_type": "stream",
     "text": [
      "{'brand': 'Ford', 'model': 'Mustang'}\n"
     ]
    }
   ],
   "source": [
    "thisdict = {\n",
    "  \"brand\": \"Ford\",\n",
    "  \"model\": \"Mustang\",\n",
    "  \"year\": 1964\n",
    "}\n",
    "thisdict.popitem()\n",
    "print(thisdict)"
   ]
  },
  {
   "cell_type": "code",
   "execution_count": 64,
   "metadata": {},
   "outputs": [
    {
     "name": "stdout",
     "output_type": "stream",
     "text": [
      "{'brand': 'Ford', 'year': 1964}\n"
     ]
    }
   ],
   "source": [
    "#del\n",
    "thisdict = {\n",
    "  \"brand\": \"Ford\",\n",
    "  \"model\": \"Mustang\",\n",
    "  \"year\": 1964\n",
    "}\n",
    "del thisdict[\"model\"]\n",
    "print(thisdict)"
   ]
  },
  {
   "cell_type": "code",
   "execution_count": 65,
   "metadata": {},
   "outputs": [
    {
     "name": "stdout",
     "output_type": "stream",
     "text": [
      "{}\n"
     ]
    }
   ],
   "source": [
    "#clear\n",
    "thisdict = {\n",
    "  \"brand\": \"Ford\",\n",
    "  \"model\": \"Mustang\",\n",
    "  \"year\": 1964\n",
    "}\n",
    "thisdict.clear()\n",
    "print(thisdict)"
   ]
  },
  {
   "cell_type": "code",
   "execution_count": 72,
   "metadata": {},
   "outputs": [
    {
     "name": "stdout",
     "output_type": "stream",
     "text": [
      "brand\n",
      "model\n",
      "year\n",
      "\n",
      "\n",
      "brand\n",
      "model\n",
      "year\n",
      "\n",
      "\n",
      "Ford\n",
      "Mustang\n",
      "1964\n",
      "\n",
      "\n",
      "Ford\n",
      "Mustang\n",
      "1964\n",
      "\n",
      "\n",
      "brand : Ford\n",
      "model : Mustang\n",
      "year : 1964\n"
     ]
    }
   ],
   "source": [
    "thisdict = {\n",
    "  \"brand\": \"Ford\",\n",
    "  \"model\": \"Mustang\",\n",
    "  \"year\": 1964\n",
    "}\n",
    "#keys\n",
    "for x in thisdict:\n",
    "  print(x)\n",
    "print(\"\\n\")\n",
    "\n",
    "for x in thisdict.keys():\n",
    "  print(x)\n",
    "print(\"\\n\")\n",
    "  \n",
    "#values\n",
    "for x in thisdict:\n",
    "  print(thisdict[x])\n",
    "print(\"\\n\")\n",
    "\n",
    "for x in thisdict.values():\n",
    "  print(x)\n",
    "print(\"\\n\")\n",
    "\n",
    "#items\n",
    "for x, y in thisdict.items():\n",
    "    print(x ,\":\", y)\n",
    "\n"
   ]
  },
  {
   "cell_type": "markdown",
   "metadata": {},
   "source": [
    "#### COPY"
   ]
  },
  {
   "cell_type": "code",
   "execution_count": 73,
   "metadata": {},
   "outputs": [
    {
     "name": "stdout",
     "output_type": "stream",
     "text": [
      "{'brand': 'Ford', 'model': 'Mustang', 'year': 1964}\n",
      "\n",
      "\n",
      "{'brand': 'Ford', 'model': 'Mustang', 'year': 1964}\n"
     ]
    }
   ],
   "source": [
    "#copy()\n",
    "thisdict = {\n",
    "  \"brand\": \"Ford\",\n",
    "  \"model\": \"Mustang\",\n",
    "  \"year\": 1964\n",
    "}\n",
    "mydict = thisdict.copy()\n",
    "print(mydict)\n",
    "print(\"\\n\")\n",
    "\n",
    "dict1 = dict(thisdict)\n",
    "print(dict1)"
   ]
  },
  {
   "cell_type": "markdown",
   "metadata": {},
   "source": []
  },
  {
   "cell_type": "markdown",
   "metadata": {},
   "source": [
    "#### Iterative statement\n",
    "### the while loop\n",
    "The while loop is used to execute a block of code repeatedly as long as a certain condition is True\n"
   ]
  },
  {
   "cell_type": "code",
   "execution_count": 17,
   "metadata": {},
   "outputs": [
    {
     "name": "stdout",
     "output_type": "stream",
     "text": [
      "1\n",
      "2\n",
      "3\n",
      "4\n",
      "5\n",
      "6\n",
      "7\n",
      "8\n",
      "9\n",
      "10\n",
      "11\n",
      "12\n",
      "13\n",
      "14\n",
      "15\n",
      "16\n",
      "17\n",
      "18\n",
      "19\n",
      "20\n",
      "21\n",
      "22\n",
      "23\n",
      "24\n",
      "25\n",
      "26\n",
      "27\n",
      "28\n",
      "29\n",
      "30\n",
      "31\n",
      "32\n",
      "33\n",
      "34\n",
      "35\n",
      "36\n",
      "37\n",
      "38\n",
      "39\n",
      "40\n",
      "41\n",
      "42\n",
      "43\n",
      "44\n",
      "45\n",
      "46\n",
      "47\n",
      "48\n",
      "49\n"
     ]
    }
   ],
   "source": [
    "#### Iterative statement\n",
    "### the while loop\n",
    "#The while loop is used to execute a block of code repeatedly as long as a certain condition is True\n",
    "# #Print i as long as i is less than 6:\n",
    "\n",
    "i = 1\n",
    "while i < 50:\n",
    "  print(i)\n",
    "  i += 1"
   ]
  },
  {
   "cell_type": "markdown",
   "metadata": {},
   "source": [
    "#### The break Statement\n",
    "With the break statement we can stop the loop even if the while condition is true:"
   ]
  },
  {
   "cell_type": "markdown",
   "metadata": {},
   "source": [
    "#### The continue Statement\n",
    "With the continue statement we can stop the current iteration, and continue with the next:"
   ]
  },
  {
   "cell_type": "code",
   "execution_count": 28,
   "metadata": {},
   "outputs": [
    {
     "name": "stdout",
     "output_type": "stream",
     "text": [
      "1\n",
      "2\n",
      "4\n",
      "5\n",
      "6\n"
     ]
    }
   ],
   "source": [
    "\n",
    "#Continue to the next iteration if i is 3:\n",
    "\n",
    "i = 0\n",
    "while i < 6:\n",
    "  i += 1\n",
    "  \n",
    "  if i == 3:\n",
    "    continue\n",
    "  \n",
    "  print(i)\n",
    "  "
   ]
  },
  {
   "cell_type": "markdown",
   "metadata": {},
   "source": [
    "#### The else Statement\n",
    "With the else statement we can run a block of code once when the condition no longer is true:"
   ]
  },
  {
   "cell_type": "code",
   "execution_count": 20,
   "metadata": {},
   "outputs": [
    {
     "name": "stdout",
     "output_type": "stream",
     "text": [
      "1\n",
      "2\n",
      "3\n",
      "4\n",
      "5\n",
      "i is no longer less than 6\n"
     ]
    }
   ],
   "source": [
    "#Print a message once the condition is false:\n",
    "\n",
    "i = 1\n",
    "while i < 6:\n",
    "  print(i)\n",
    "  i += 1\n",
    "else:\n",
    "  print(\"i is no longer less than 6\")"
   ]
  },
  {
   "cell_type": "markdown",
   "metadata": {},
   "source": [
    "### FOR loop\n",
    "A for loop is used for iterating over a sequence (that is either a list, a tuple, a dictionary, a set, or a string)."
   ]
  },
  {
   "cell_type": "code",
   "execution_count": 31,
   "metadata": {},
   "outputs": [
    {
     "name": "stdout",
     "output_type": "stream",
     "text": [
      "apple\n",
      "banana\n",
      "cherry\n",
      "\n",
      "\n",
      "b\n",
      "a\n",
      "n\n",
      "a\n",
      "n\n",
      "a\n"
     ]
    }
   ],
   "source": [
    "#Print each fruit in a fruit list:\n",
    "\n",
    "fruits = [\"apple\", \"banana\", \"cherry\"]\n",
    "for x in fruits:\n",
    "  print(x)\n",
    "print(\"\\n\")\n",
    "\n",
    "#Loop through the letters in the word \"banana\":\n",
    "\n",
    "for x in \"banana\":\n",
    "  print(x)\n",
    "print(\"\\n\")"
   ]
  },
  {
   "cell_type": "markdown",
   "metadata": {},
   "source": [
    "#### the break statement\n"
   ]
  },
  {
   "cell_type": "code",
   "execution_count": 32,
   "metadata": {},
   "outputs": [
    {
     "name": "stdout",
     "output_type": "stream",
     "text": [
      "apple\n",
      "banana\n"
     ]
    }
   ],
   "source": [
    "#Exit the loop when x is \"banana\":\n",
    "\n",
    "fruits = [\"apple\", \"banana\", \"cherry\"]\n",
    "for x in fruits:\n",
    "  print(x)\n",
    "  if x == \"banana\":\n",
    "    break"
   ]
  },
  {
   "cell_type": "markdown",
   "metadata": {},
   "source": [
    "#### continue statement\n"
   ]
  },
  {
   "cell_type": "code",
   "execution_count": 33,
   "metadata": {},
   "outputs": [
    {
     "name": "stdout",
     "output_type": "stream",
     "text": [
      "apple\n",
      "cherry\n"
     ]
    }
   ],
   "source": [
    "#Do not print banana:\n",
    "\n",
    "fruits = [\"apple\", \"banana\", \"cherry\"]\n",
    "for x in fruits:\n",
    "  if x == \"banana\":\n",
    "    continue\n",
    "  print(x)"
   ]
  },
  {
   "cell_type": "markdown",
   "metadata": {},
   "source": [
    "### The range() Function\n",
    "To loop through a set of code a specified number of times, we can use the range() function,"
   ]
  },
  {
   "cell_type": "code",
   "execution_count": 34,
   "metadata": {},
   "outputs": [
    {
     "name": "stdout",
     "output_type": "stream",
     "text": [
      "0\n",
      "1\n",
      "2\n",
      "3\n",
      "4\n",
      "5\n"
     ]
    }
   ],
   "source": [
    "#Using the range() function:\n",
    "\n",
    "for x in range(6):\n",
    "  print(x)"
   ]
  },
  {
   "cell_type": "code",
   "execution_count": 38,
   "metadata": {},
   "outputs": [
    {
     "name": "stdout",
     "output_type": "stream",
     "text": [
      "2\n",
      "5\n",
      "8\n",
      "11\n",
      "14\n",
      "17\n",
      "20\n",
      "23\n",
      "26\n",
      "29\n"
     ]
    }
   ],
   "source": [
    "#Increment the sequence with 3 (default is 1):\n",
    "\n",
    "for x in range(2, 30, 3):\n",
    "  print(x)"
   ]
  },
  {
   "cell_type": "markdown",
   "metadata": {},
   "source": [
    "#### ELSE "
   ]
  },
  {
   "cell_type": "code",
   "execution_count": 40,
   "metadata": {},
   "outputs": [
    {
     "name": "stdout",
     "output_type": "stream",
     "text": [
      "0\n",
      "1\n",
      "2\n",
      "3\n",
      "4\n",
      "5\n",
      "Finally finished!\n",
      "\n",
      "\n",
      "0\n",
      "1\n",
      "2\n"
     ]
    }
   ],
   "source": [
    "#Print all numbers from 0 to 5, and print a message when the loop has ended:\n",
    "\n",
    "for x in range(6):\n",
    "  print(x)\n",
    "else:\n",
    "  print(\"Finally finished!\")\n",
    "print(\"\\n\")\n",
    "# #Break the loop when x is 3, and see what happens with the else block:\n",
    "\n",
    "for x in range(6):\n",
    "  if x == 3: break\n",
    "  print(x)\n",
    "else:\n",
    "  print(\"Finally finished!\")"
   ]
  },
  {
   "cell_type": "markdown",
   "metadata": {},
   "source": [
    "### Nested Loops\n",
    "A nested loop is a loop inside a loop."
   ]
  },
  {
   "cell_type": "code",
   "execution_count": 41,
   "metadata": {},
   "outputs": [
    {
     "name": "stdout",
     "output_type": "stream",
     "text": [
      "red apple\n",
      "red banana\n",
      "red cherry\n",
      "big apple\n",
      "big banana\n",
      "big cherry\n",
      "tasty apple\n",
      "tasty banana\n",
      "tasty cherry\n"
     ]
    }
   ],
   "source": [
    "#Print each adjective for every fruit:\n",
    "\n",
    "adj = [\"red\", \"big\", \"tasty\"]\n",
    "fruits = [\"apple\", \"banana\", \"cherry\"]\n",
    "\n",
    "for x in adj:\n",
    "  for y in fruits:\n",
    "    print(x, y)"
   ]
  },
  {
   "cell_type": "markdown",
   "metadata": {},
   "source": [
    "#### The pass Statement"
   ]
  },
  {
   "cell_type": "code",
   "execution_count": 42,
   "metadata": {},
   "outputs": [],
   "source": [
    "for x in [0, 1, 2]:\n",
    "  pass"
   ]
  },
  {
   "cell_type": "markdown",
   "metadata": {},
   "source": [
    "## Python Functions\n",
    "A function is a block of code which only runs when it is called.\n",
    "\n",
    "You can pass data, known as parameters, into a function.\n",
    "\n",
    "A function can return data as a result.\n",
    "\n",
    "\n"
   ]
  },
  {
   "cell_type": "code",
   "execution_count": 45,
   "metadata": {},
   "outputs": [
    {
     "name": "stdout",
     "output_type": "stream",
     "text": [
      "Hello from a function\n",
      "\n",
      "\n",
      "Emil Refsnes\n",
      "Tobias Refsnes\n",
      "Linus Refsnes\n",
      "\n",
      "\n",
      "Emil Refsnes\n"
     ]
    }
   ],
   "source": [
    "#calling a function\n",
    "def my_function():\n",
    "  print(\"Hello from a function\")\n",
    "\n",
    "my_function() # func call\n",
    "print(\"\\n\")\n",
    "\n",
    "#arguments\n",
    "def my_function(fname):#fnamee= parameters\n",
    "  print(fname + \" Refsnes\")\n",
    "\n",
    "my_function(\"Emil\")\n",
    "my_function(\"Tobias\")\n",
    "my_function(\"Linus\")# arguments\n",
    "print(\"\\n\")\n",
    "#This function expects 2 arguments, and gets 2 arguments:\n",
    "\n",
    "def my_function(fname, lname):\n",
    "  print(fname + \" \" + lname)\n",
    "\n",
    "my_function(\"Emil\", \"Refsnes\")\n",
    "\n"
   ]
  },
  {
   "cell_type": "markdown",
   "metadata": {},
   "source": [
    "#### Arbitrary Arguments, *args"
   ]
  },
  {
   "cell_type": "code",
   "execution_count": 46,
   "metadata": {},
   "outputs": [
    {
     "name": "stdout",
     "output_type": "stream",
     "text": [
      "The youngest child is Linus\n"
     ]
    }
   ],
   "source": [
    "#If the number of arguments is unknown, add a * before the parameter name:\n",
    "\n",
    "def my_function(*kids):\n",
    "  print(\"The youngest child is \" + kids[2])\n",
    "\n",
    "my_function(\"Emil\", \"Tobias\", \"Linus\")"
   ]
  },
  {
   "cell_type": "markdown",
   "metadata": {},
   "source": [
    "#### Keyword Arguments"
   ]
  },
  {
   "cell_type": "code",
   "execution_count": 47,
   "metadata": {},
   "outputs": [
    {
     "name": "stdout",
     "output_type": "stream",
     "text": [
      "The youngest child is Linus\n"
     ]
    }
   ],
   "source": [
    "def my_function(child3, child2, child1):\n",
    "  print(\"The youngest child is \" + child3)\n",
    "\n",
    "my_function(child1 = \"Emil\", child2 = \"Tobias\", child3 = \"Linus\")\n"
   ]
  },
  {
   "cell_type": "markdown",
   "metadata": {},
   "source": [
    "#### Arbitrary Keyword Arguments, **kwargs"
   ]
  },
  {
   "cell_type": "code",
   "execution_count": 48,
   "metadata": {},
   "outputs": [
    {
     "name": "stdout",
     "output_type": "stream",
     "text": [
      "His last name is Refsnes\n"
     ]
    }
   ],
   "source": [
    "#If the number of keyword arguments is unknown, add a double ** before the parameter name:\n",
    "\n",
    "def my_function(**kid):\n",
    "  print(\"His last name is \" + kid[\"lname\"])\n",
    "\n",
    "my_function(fname = \"Tobias\", lname = \"Refsnes\")"
   ]
  },
  {
   "cell_type": "markdown",
   "metadata": {},
   "source": [
    "#### Default Parameter Value"
   ]
  },
  {
   "cell_type": "code",
   "execution_count": 49,
   "metadata": {},
   "outputs": [
    {
     "name": "stdout",
     "output_type": "stream",
     "text": [
      "I am from Sweden\n",
      "I am from India\n",
      "I am from Norway\n",
      "I am from Brazil\n"
     ]
    }
   ],
   "source": [
    "#If we call the function without argument, it uses the default value:\n",
    "\n",
    "def my_function(country = \"Norway\"):\n",
    "  print(\"I am from \" + country)\n",
    "\n",
    "my_function(\"Sweden\")\n",
    "my_function(\"India\")\n",
    "my_function()\n",
    "my_function(\"Brazil\")"
   ]
  },
  {
   "cell_type": "markdown",
   "metadata": {},
   "source": [
    "#### Passing a List as an Argument\n",
    "You can send any data types of argument to a function (string, number, list, dictionary etc.), and it will be treated as the same data type inside the function.\n",
    "\n",
    "E.g. if you send a List as an argument, it will still be a List when it reaches the function:"
   ]
  },
  {
   "cell_type": "code",
   "execution_count": 50,
   "metadata": {},
   "outputs": [
    {
     "name": "stdout",
     "output_type": "stream",
     "text": [
      "apple\n",
      "banana\n",
      "cherry\n"
     ]
    }
   ],
   "source": [
    "def my_function(food):\n",
    "  for x in food:\n",
    "    print(x)\n",
    "\n",
    "fruits = [\"apple\", \"banana\", \"cherry\"]\n",
    "\n",
    "my_function(fruits)"
   ]
  },
  {
   "cell_type": "markdown",
   "metadata": {},
   "source": [
    "####  Return Values\n"
   ]
  },
  {
   "cell_type": "code",
   "execution_count": 51,
   "metadata": {},
   "outputs": [
    {
     "name": "stdout",
     "output_type": "stream",
     "text": [
      "15\n",
      "25\n",
      "45\n"
     ]
    }
   ],
   "source": [
    "#To let a function return a value, use the return statement:\n",
    "\n",
    "def my_function(x):\n",
    "  return 5 * x\n",
    "\n",
    "print(my_function(3))\n",
    "print(my_function(5))\n",
    "print(my_function(9))\n"
   ]
  },
  {
   "cell_type": "markdown",
   "metadata": {},
   "source": [
    "### The pass Statement\n",
    "function definitions cannot be empty, but if you for some reason have a function definition with no content, put in the pass statement to avoid getting an error."
   ]
  },
  {
   "cell_type": "code",
   "execution_count": 52,
   "metadata": {},
   "outputs": [],
   "source": [
    "def myfunction():\n",
    "  pass"
   ]
  },
  {
   "cell_type": "markdown",
   "metadata": {},
   "source": [
    "### Positional-Only Arguments\n",
    "You can specify that a function can have ONLY positional arguments, or ONLY keyword arguments.\n",
    "\n",
    "To specify that a function can have only positional arguments, add , / after the arguments:"
   ]
  },
  {
   "cell_type": "code",
   "execution_count": 53,
   "metadata": {},
   "outputs": [
    {
     "name": "stdout",
     "output_type": "stream",
     "text": [
      "3\n"
     ]
    }
   ],
   "source": [
    "def my_function(x, /):\n",
    "  print(x)\n",
    "\n",
    "my_function(3)"
   ]
  },
  {
   "cell_type": "code",
   "execution_count": 54,
   "metadata": {},
   "outputs": [
    {
     "name": "stdout",
     "output_type": "stream",
     "text": [
      "3\n"
     ]
    }
   ],
   "source": [
    "#Without the , / you are actually allowed to use keyword arguments even if the function expects positional arguments:\n",
    "\n",
    "\n",
    "def my_function(x):\n",
    "  print(x)\n",
    "\n",
    "my_function(x = 3)"
   ]
  },
  {
   "cell_type": "code",
   "execution_count": 57,
   "metadata": {},
   "outputs": [
    {
     "ename": "TypeError",
     "evalue": "my_function() got some positional-only arguments passed as keyword arguments: 'x'",
     "output_type": "error",
     "traceback": [
      "\u001b[1;31m---------------------------------------------------------------------------\u001b[0m",
      "\u001b[1;31mTypeError\u001b[0m                                 Traceback (most recent call last)",
      "Cell \u001b[1;32mIn[57], line 6\u001b[0m\n\u001b[0;32m      3\u001b[0m \u001b[38;5;28;01mdef\u001b[39;00m \u001b[38;5;21mmy_function\u001b[39m(x, \u001b[38;5;241m/\u001b[39m):\n\u001b[0;32m      4\u001b[0m   \u001b[38;5;28mprint\u001b[39m(x)\n\u001b[1;32m----> 6\u001b[0m \u001b[43mmy_function\u001b[49m\u001b[43m(\u001b[49m\u001b[43mx\u001b[49m\u001b[38;5;241;43m=\u001b[39;49m\u001b[38;5;241;43m3\u001b[39;49m\u001b[43m)\u001b[49m\n",
      "\u001b[1;31mTypeError\u001b[0m: my_function() got some positional-only arguments passed as keyword arguments: 'x'"
     ]
    }
   ],
   "source": [
    "#But when adding the , / you will get an error if you try to send a keyword argument:\n",
    "\n",
    "def my_function(x, /):\n",
    "  print(x)\n",
    "\n",
    "my_function(x=3)"
   ]
  },
  {
   "cell_type": "markdown",
   "metadata": {},
   "source": [
    "#### Keyword-Only Arguments"
   ]
  },
  {
   "cell_type": "code",
   "execution_count": 58,
   "metadata": {},
   "outputs": [
    {
     "name": "stdout",
     "output_type": "stream",
     "text": [
      "3\n",
      "\n",
      "\n",
      "3\n"
     ]
    }
   ],
   "source": [
    "#To specify that a function can have only keyword arguments, add *, before the arguments:\n",
    "\n",
    "\n",
    "def my_function(*, x):\n",
    "  print(x)\n",
    "\n",
    "my_function(x = 3)\n",
    "print(\"\\n\")\n",
    "#Without the *, you are allowed to use positionale arguments even if the function expects keyword arguments:\n",
    "\n",
    "\n",
    "def my_function(x):\n",
    "  print(x)\n",
    "\n",
    "my_function(3)"
   ]
  },
  {
   "cell_type": "markdown",
   "metadata": {},
   "source": [
    "### Combine Positional-Only and Keyword-Only\n",
    "You can combine the two argument types in the same function.\n",
    "\n",
    "Any argument before the / , are positional-only, and any argument after the *, are keyword-only.\n",
    "\n"
   ]
  },
  {
   "cell_type": "code",
   "execution_count": 59,
   "metadata": {},
   "outputs": [
    {
     "name": "stdout",
     "output_type": "stream",
     "text": [
      "26\n"
     ]
    }
   ],
   "source": [
    "def my_function(a, b, /, *, c, d):\n",
    "  print(a + b + c + d)\n",
    "\n",
    "my_function(5, 6, c = 7, d = 8)"
   ]
  },
  {
   "cell_type": "markdown",
   "metadata": {},
   "source": [
    "### Recursion\n",
    "Python also accepts function recursion, which means a defined function can call itself.\n",
    "\n",
    "Recursion is a common mathematical and programming concept. It means that a function calls itself. This has the benefit of meaning that you can loop through data to reach a result.\n",
    "\n",
    "The developer should be very careful with recursion as it can be quite easy to slip into writing a function which never terminates, or one that uses excess amounts of memory or processor power. However, when written correctly recursion can be a very efficient and mathematically-elegant approach to programming.\n",
    "\n",
    "In this example, tri_recursion() is a function that we have defined to call itself (\"recurse\"). We use the k variable as the data, which decrements (-1) every time we recurse. The recursion ends when the condition is not greater than 0 (i.e. when it is 0)."
   ]
  },
  {
   "cell_type": "code",
   "execution_count": 60,
   "metadata": {},
   "outputs": [
    {
     "name": "stdout",
     "output_type": "stream",
     "text": [
      "\n",
      "\n",
      "Recursion Example Results\n",
      "1\n",
      "3\n",
      "6\n",
      "10\n",
      "15\n",
      "21\n"
     ]
    },
    {
     "data": {
      "text/plain": [
       "21"
      ]
     },
     "execution_count": 60,
     "metadata": {},
     "output_type": "execute_result"
    }
   ],
   "source": [
    "def tri_recursion(k):\n",
    "  if(k > 0):\n",
    "    result = k + tri_recursion(k - 1)\n",
    "    print(result)\n",
    "  else:\n",
    "    result = 0\n",
    "  return result\n",
    "\n",
    "print(\"\\n\\nRecursion Example Results\")\n",
    "tri_recursion(6)"
   ]
  },
  {
   "cell_type": "code",
   "execution_count": 1,
   "metadata": {},
   "outputs": [
    {
     "data": {
      "text/plain": [
       "120"
      ]
     },
     "execution_count": 1,
     "metadata": {},
     "output_type": "execute_result"
    }
   ],
   "source": [
    "#factorial\n",
    "def fact(n):\n",
    "    if n==0:\n",
    "        return 1\n",
    "    else:\n",
    "         return n*fact(n-1)\n",
    "        \n",
    "num=5\n",
    "fact(num)\n",
    "\n"
   ]
  },
  {
   "cell_type": "markdown",
   "metadata": {},
   "source": [
    "### Python Lambda\n",
    "A lambda function is a small anonymous function.\n",
    "\n",
    "A lambda function can take any number of arguments, but can only have one expression.\n",
    "\n",
    "#### lambda arguments : expression\n",
    "\n"
   ]
  },
  {
   "cell_type": "code",
   "execution_count": 4,
   "metadata": {},
   "outputs": [
    {
     "name": "stdout",
     "output_type": "stream",
     "text": [
      "15\n",
      "30\n",
      "13\n"
     ]
    }
   ],
   "source": [
    "#Add 10 to argument a, and return the result:\n",
    "\n",
    "x = lambda a : a + 10\n",
    "print(x(5))  # Output: 15\n",
    "\n",
    "#Multiply argument a with argument b and return the result:\n",
    "\n",
    "x = lambda a, b : a * b\n",
    "print(x(5, 6))   # Output: 30\n",
    "\n",
    "#Summarize argument a, b, and c and return the result:\n",
    "\n",
    "x = lambda a, b, c : a + b + c\n",
    "print(x(5, 6, 2))   # Output: 13\n",
    "\n"
   ]
  },
  {
   "cell_type": "code",
   "execution_count": 5,
   "metadata": {},
   "outputs": [
    {
     "name": "stdout",
     "output_type": "stream",
     "text": [
      "22\n"
     ]
    }
   ],
   "source": [
    "#Use that function definition to make a function that always doubles the number you send in:\n",
    "\n",
    "\n",
    "def myfunc(n):\n",
    "  return lambda a : a * n\n",
    "\n",
    "mydoubler = myfunc(2)\n",
    "\n",
    "print(mydoubler(11))"
   ]
  },
  {
   "cell_type": "code",
   "execution_count": 9,
   "metadata": {},
   "outputs": [
    {
     "name": "stdout",
     "output_type": "stream",
     "text": [
      "33\n"
     ]
    }
   ],
   "source": [
    "# use the same function definition to make a function that always triples the number you send in:\n",
    "\n",
    "\n",
    "def myfunc(n):\n",
    "  return lambda a : a * n\n",
    "  \n",
    "\n",
    "mytripler = myfunc(3)\n",
    "\n",
    "print(mytripler(11))\n"
   ]
  },
  {
   "cell_type": "code",
   "execution_count": 10,
   "metadata": {},
   "outputs": [
    {
     "name": "stdout",
     "output_type": "stream",
     "text": [
      "22\n",
      "33\n"
     ]
    }
   ],
   "source": [
    "#use the same function definition to make both functions, in the same program:\n",
    "\n",
    "\n",
    "def myfunc(n):\n",
    "  return lambda a : a * n\n",
    "\n",
    "mydoubler = myfunc(2)\n",
    "mytripler = myfunc(3)\n",
    "\n",
    "print(mydoubler(11))\n",
    "print(mytripler(11))"
   ]
  },
  {
   "cell_type": "markdown",
   "metadata": {},
   "source": [
    "## Python Arrays\n",
    "Note: Python does not have built-in support for Arrays, but Python Lists can be used instead.\n",
    "\n",
    "#### Arrays\n",
    "Note: This page shows you how to use LISTS as ARRAYS, however, to work with arrays in Python you will have to import a library, like the NumPy library.\n",
    "\n",
    "Arrays are used to store multiple values in one single variable:\n",
    "\n",
    "Example Get your own Python Server\n",
    "Create an array containing car names:\n",
    "\n",
    "cars = [\"Ford\", \"Volvo\", \"BMW\"]\n",
    "What is an Array?\n",
    "An array is a special variable, which can hold more than one value at a time.\n",
    "\n",
    "If you have a list of items (a list of car names, for example), storing the cars in single variables could look like this:\n",
    "\n",
    "car1 = \"Ford\"\n",
    "car2 = \"Volvo\"\n",
    "car3 = \"BMW\"\n",
    "However, what if you want to loop through the cars and find a specific one? And what if you had not 3 cars, but 300?\n",
    "\n",
    "The solution is an array!\n",
    "\n",
    "An array can hold many values under a single name, and you can access the values by referring to an index number.\n",
    "\n",
    "Access the Elements of an Array\n",
    "You refer to an array element by referring to the index number.\n",
    "\n",
    "\n",
    "The Length of an Array\n",
    "Use the len() method to return the length of an array (the number of elements in an array).\n",
    "\n",
    "\n",
    "\n",
    "\n",
    "\n",
    "\n",
    "\n"
   ]
  },
  {
   "cell_type": "code",
   "execution_count": 13,
   "metadata": {},
   "outputs": [
    {
     "name": "stdout",
     "output_type": "stream",
     "text": [
      "Ford\n",
      "Toyota\n",
      "3\n",
      "Toyota\n",
      "Volvo\n",
      "BMW\n",
      "['Toyota', 'Volvo', 'BMW', 'Honda']\n",
      "['Toyota', 'BMW', 'Honda']\n",
      "['Toyota', 'BMW', 'Honda']\n"
     ]
    }
   ],
   "source": [
    "cars = [\"Ford\", \"Volvo\", \"BMW\"]\n",
    "#Get the value of the first array item:\n",
    "\n",
    "x = cars[0]\n",
    "print(x)\n",
    "#Modify the value of the first array item:\n",
    "\n",
    "cars[0] = \"Toyota\"\n",
    "x=cars[0]\n",
    "print(x)\n",
    "#Return the number of elements in the cars array:\n",
    "\n",
    "x = len(cars)\n",
    "print(x)\n",
    "\n",
    "#Print each item in the cars array:\n",
    "#Looping Array Elements\n",
    "#You can use the for in loop to loop through all the elements of an array.\n",
    "for x in cars:\n",
    "  print(x)\n",
    "\n",
    "#You can use the append() method to add an element to an array.\n",
    "\n",
    "#Add one more element to the cars array:\n",
    "\n",
    "cars.append(\"Honda\")\n",
    "print(cars)\n",
    "#Removing Array Elements\n",
    "#You can use the pop() method to remove an element from the array.\n",
    "\n",
    "#Delete the second element of the cars array:\n",
    "\n",
    "cars.pop(1)\n",
    "print(cars)\n",
    "#You can also use the remove() method to remove an element from the array.\n",
    "\n",
    "\n",
    "#Delete the element that has the value \"Volvo\":\n",
    "\n",
    "#cars.remove(\"Volvo\")\n",
    "print(cars)"
   ]
  },
  {
   "cell_type": "markdown",
   "metadata": {},
   "source": [
    "## Exercises"
   ]
  },
  {
   "cell_type": "code",
   "execution_count": 14,
   "metadata": {},
   "outputs": [],
   "source": [
    "#loop\n",
    "x=int(input())\n",
    "y=int(input())\n",
    "for i in range(x,y):\n",
    "    print(i) \n",
    "'''\n",
    "10\n",
    "20\n",
    "10\n",
    "11\n",
    "12\n",
    "13\n",
    "14\n",
    "15\n",
    "16\n",
    "17\n",
    "18\n",
    "19\n",
    "'''\n",
    "\n",
    "x=int(input())\n",
    "for i in range(1,x):\n",
    "    if (i%2==0):\n",
    "        print(i)\n",
    "'''20\n",
    "2\n",
    "4\n",
    "6\n",
    "8\n",
    "10\n",
    "12\n",
    "14\n",
    "16\n",
    "18'''"
   ]
  },
  {
   "cell_type": "markdown",
   "metadata": {},
   "source": [
    "### CLASS AND OBJECTS"
   ]
  },
  {
   "cell_type": "code",
   "execution_count": 9,
   "metadata": {},
   "outputs": [
    {
     "name": "stdout",
     "output_type": "stream",
     "text": [
      "tyughv\n",
      "party\n",
      "enjoy beach\n",
      "Ramesh\n",
      "Suresh\n",
      "Suresh\n",
      "drink: yes\n",
      "Suresh\n",
      "drink: no\n"
     ]
    }
   ],
   "source": [
    "class goa:\n",
    "    name=\"tyughv\"\n",
    "    drink=\"\"\n",
    "    def party(self):\n",
    "        print(\"party\")\n",
    "    def beach(self):\n",
    "        print(\"enjoy beach\")\n",
    "        \n",
    "#to get ticket to goa\n",
    "ramesh=goa()#ramesh obj is created for class goa\n",
    "suresh=goa()#suresh obj is created for class goa\n",
    "print(ramesh.name) #doesnt print anything therefore set name=\"tyughv\"\n",
    "#but his name is other therfore\n",
    "ramesh.name=\"Ramesh\"\n",
    "suresh.name=\"Suresh\"\n",
    "ramesh.party()\n",
    "suresh.beach()\n",
    "ramesh.drink=\"yes\"\n",
    "suresh.drink=\"no\"\n",
    "#add name=\"\"\n",
    "\n",
    "#register in goa\n",
    "print(ramesh.name)\n",
    "#go to suresh\n",
    "print(suresh.name) #tyughv\n",
    "\n",
    "print(suresh.name) #\n",
    "print(\"drink:\",ramesh.drink)\n",
    "print(suresh.name)\n",
    "print(\"drink:\",suresh.drink)\n"
   ]
  },
  {
   "cell_type": "markdown",
   "metadata": {},
   "source": [
    "### Create a class called laptop and create a following variables and functions\n",
    "variable=>Price,Processor,Ram\n",
    "### create object HP,DELL,LENOVO"
   ]
  },
  {
   "cell_type": "code",
   "execution_count": 14,
   "metadata": {},
   "outputs": [
    {
     "name": "stdout",
     "output_type": "stream",
     "text": [
      "8GB\n",
      "30000\n"
     ]
    }
   ],
   "source": [
    "class laptop:\n",
    "    price=0\n",
    "    processor=\"\"\n",
    "    ram=\"\"\n",
    "    \n",
    "\n",
    "hp=laptop()\n",
    "Dell=laptop()\n",
    "Lenovo=laptop()\n",
    "\n",
    "hp.price=50000\n",
    "hp.processor=\"i3\"\n",
    "hp.ram=\"8GB\"\n",
    "\n",
    "Dell.price=30000\n",
    "Dell.processor=\"i4\"\n",
    "Dell.ram=\"12GB\"\n",
    "\n",
    "Lenovo.price=70000\n",
    "Lenovo.processor=\"i5\"\n",
    "Lenovo.ram=\"16GB\"\n",
    "\n",
    "print (hp.ram)\n",
    "print(Dell.price)"
   ]
  },
  {
   "cell_type": "markdown",
   "metadata": {},
   "source": [
    "#### using constructor and self keyword"
   ]
  },
  {
   "cell_type": "code",
   "execution_count": 19,
   "metadata": {},
   "outputs": [
    {
     "name": "stdout",
     "output_type": "stream",
     "text": [
      "demo\n"
     ]
    }
   ],
   "source": [
    "class laptop:\n",
    "    def __init__(self):\n",
    "        print(\"demo\")\n",
    "    def display(self):\n",
    "        print(\"display\")\n",
    "hp=laptop()\n"
   ]
  },
  {
   "cell_type": "code",
   "execution_count": 22,
   "metadata": {},
   "outputs": [
    {
     "name": "stdout",
     "output_type": "stream",
     "text": [
      "demo\n",
      "50000\n"
     ]
    }
   ],
   "source": [
    "class laptop:\n",
    "    price=0\n",
    "    ram=\"\"\n",
    "    def __init__(self):\n",
    "        print(\"demo\")\n",
    "    def display(self):\n",
    "        print(\"display\")\n",
    "hp=laptop()\n",
    "hp.price=50000\n",
    "print(hp.price)"
   ]
  },
  {
   "cell_type": "markdown",
   "metadata": {},
   "source": [
    "instead use constructor to define vlaue"
   ]
  },
  {
   "cell_type": "code",
   "execution_count": 1,
   "metadata": {},
   "outputs": [
    {
     "name": "stdout",
     "output_type": "stream",
     "text": [
      "__init__\n",
      "__init__\n",
      "ram: 8GB\n",
      "processor: i3\n",
      "ram: 16GB\n",
      "processor: i5\n"
     ]
    }
   ],
   "source": [
    "class laptop:\n",
    "   \n",
    "    def __init__(self):\n",
    "       \n",
    "        self.ram=\"\"\n",
    "        self.processor=\"\"\n",
    "        print(\"__init__\")\n",
    "    def display(self):\n",
    "        print(\"ram:\",self.ram)\n",
    "        print(\"processor:\",self.processor)\n",
    "hp=laptop()\n",
    "\n",
    "hp.ram=\"8GB\"\n",
    "hp.processor=\"i3\"\n",
    "\n",
    "dell=laptop()\n",
    "dell.ram=\"16GB\"\n",
    "dell.processor=\"i5\"\n",
    "\n",
    "hp.display()\n",
    "dell.display()"
   ]
  },
  {
   "cell_type": "markdown",
   "metadata": {},
   "source": [
    "#### pass"
   ]
  },
  {
   "cell_type": "code",
   "execution_count": 29,
   "metadata": {},
   "outputs": [],
   "source": [
    "class car:\n",
    "    pass"
   ]
  },
  {
   "cell_type": "code",
   "execution_count": 33,
   "metadata": {},
   "outputs": [
    {
     "name": "stdout",
     "output_type": "stream",
     "text": [
      "11\n"
     ]
    }
   ],
   "source": [
    "x=lambda a,b:a+b\n",
    "print(x(5,6))"
   ]
  },
  {
   "cell_type": "code",
   "execution_count": 34,
   "metadata": {},
   "outputs": [
    {
     "data": {
      "text/plain": [
       "16"
      ]
     },
     "execution_count": 34,
     "metadata": {},
     "output_type": "execute_result"
    }
   ],
   "source": [
    "def add(a,b):\n",
    "    print(\"a+b\")\n",
    "    return a+b\n",
    "    \n",
    "\n",
    "x=10\n",
    "y=6\n",
    "add(x,y)"
   ]
  },
  {
   "cell_type": "markdown",
   "metadata": {},
   "source": [
    "create a class student,create variable name and regno using constructor.CREAATE A display func that prints the value"
   ]
  },
  {
   "cell_type": "code",
   "execution_count": 2,
   "metadata": {},
   "outputs": [
    {
     "name": "stdout",
     "output_type": "stream",
     "text": [
      "name RAMESH\n",
      "regno 21CS134\n",
      "name karthi\n",
      "regno 2\n"
     ]
    }
   ],
   "source": [
    "class Student:\n",
    "    def __init__(self):\n",
    "        self.name=\"RAMESH\"\n",
    "        self.regno=\"21CS134\"\n",
    "    def display(self):\n",
    "        print(\"name\",self.name)\n",
    "        print(\"regno\",self.regno)\n",
    "\n",
    "s1=Student()\n",
    "s2=Student()\n",
    "s1.name=\"manoj\"\n",
    "s1.regno=\"1\"\n",
    "\n",
    "s2.name=\"karthi\"\n",
    "s2.regno=\"2\"\n",
    "\n",
    "\n",
    "s1.display()\n",
    "s2.display()"
   ]
  },
  {
   "cell_type": "markdown",
   "metadata": {},
   "source": [
    "create a class fruit,create a varibale colour,create a object called apple pass color through object"
   ]
  },
  {
   "cell_type": "code",
   "execution_count": 7,
   "metadata": {},
   "outputs": [
    {
     "ename": "TypeError",
     "evalue": "Fruit.__init__() missing 1 required positional argument: 'color'",
     "output_type": "error",
     "traceback": [
      "\u001b[1;31m---------------------------------------------------------------------------\u001b[0m",
      "\u001b[1;31mTypeError\u001b[0m                                 Traceback (most recent call last)",
      "Cell \u001b[1;32mIn[7], line 4\u001b[0m\n\u001b[0;32m      2\u001b[0m     \u001b[38;5;28;01mdef\u001b[39;00m \u001b[38;5;21m__init__\u001b[39m(\u001b[38;5;28mself\u001b[39m,color):\n\u001b[0;32m      3\u001b[0m         \u001b[38;5;28mself\u001b[39m\u001b[38;5;241m.\u001b[39mcolor\u001b[38;5;241m=\u001b[39m\u001b[38;5;124m\"\u001b[39m\u001b[38;5;124morange\u001b[39m\u001b[38;5;124m\"\u001b[39m\n\u001b[1;32m----> 4\u001b[0m apple\u001b[38;5;241m=\u001b[39m\u001b[43mFruit\u001b[49m\u001b[43m(\u001b[49m\u001b[43m)\u001b[49m\n\u001b[0;32m      5\u001b[0m apple\u001b[38;5;241m.\u001b[39mcolor\u001b[38;5;241m=\u001b[39m\u001b[38;5;124m\"\u001b[39m\u001b[38;5;124mred\u001b[39m\u001b[38;5;124m\"\u001b[39m\n\u001b[0;32m      6\u001b[0m \u001b[38;5;28mprint\u001b[39m(apple\u001b[38;5;241m.\u001b[39mcolor) \n",
      "\u001b[1;31mTypeError\u001b[0m: Fruit.__init__() missing 1 required positional argument: 'color'"
     ]
    }
   ],
   "source": [
    "class Fruit:\n",
    "    def __init__(self,color):\n",
    "        self.color=\"orange\"\n",
    "apple=Fruit()\n",
    "apple.color=\"red\"\n",
    "print(apple.color) #prints red\n",
    "#but according to question\n",
    "class Fruit:\n",
    "    def __init__(self):\n",
    "        self.color=\"orange\"\n",
    "apple=Fruit(\"red\")\n",
    "\n",
    "print(apple.color) "
   ]
  },
  {
   "cell_type": "code",
   "execution_count": 8,
   "metadata": {},
   "outputs": [
    {
     "name": "stdout",
     "output_type": "stream",
     "text": [
      "red\n"
     ]
    }
   ],
   "source": [
    "#therefor for above mistake\n",
    "class Fruit:\n",
    "    def __init__(self,col):\n",
    "        self.color=col\n",
    "apple=Fruit(\"red\")\n",
    "\n",
    "print(apple.color)  #prints red"
   ]
  },
  {
   "cell_type": "markdown",
   "metadata": {},
   "source": [
    "create a class called teacher craete a variable name  and regno using constructor ,create a function called display which display the  name and regno of the teacher.create t1 and t2 onject  and pass the name and reg no value through object"
   ]
  },
  {
   "cell_type": "code",
   "execution_count": 10,
   "metadata": {},
   "outputs": [
    {
     "name": "stdout",
     "output_type": "stream",
     "text": [
      "name: reena\n",
      "regno: 21\n",
      "name: meenakshi\n",
      "regno: 24\n"
     ]
    }
   ],
   "source": [
    "class teacher:\n",
    "    def __init__(self, nam, reg):\n",
    "        self.name=nam\n",
    "        self.regno=reg\n",
    "    def display(self):\n",
    "        print(\"name:\",self.name)\n",
    "        print(\"regno:\",self.regno)\n",
    "t1=teacher(\"reena\",\"21\")\n",
    "t2=teacher(\"meenakshi\",\"24\")\n",
    "t1.display()\n",
    "t2.display()   \n",
    "        "
   ]
  },
  {
   "cell_type": "markdown",
   "metadata": {},
   "source": [
    "create a class called calculator,create 2 variables a and b and function called ADD,SUB,MUL,DIV all func should take 2 variables as parameters.pass a and b value through object\n",
    "."
   ]
  },
  {
   "cell_type": "code",
   "execution_count": 23,
   "metadata": {},
   "outputs": [
    {
     "name": "stdout",
     "output_type": "stream",
     "text": [
      "ADD 25\n",
      "SUB -5\n",
      "DIV 0.6666666666666666\n",
      "MUL 150\n"
     ]
    }
   ],
   "source": [
    "class calculator:\n",
    "    def __init__(self,a,b):\n",
    "       self.a = a\n",
    "       self.b = b\n",
    "    def ADD(self):\n",
    "        print(\"ADD\",self.a+self.b)\n",
    "    def SUB(self):\n",
    "        print(\"SUB\",self.a-self.b)\n",
    "    def MUL(self):\n",
    "        print(\"MUL\",self.a*self.b)    \n",
    "    def DIV(self):\n",
    "        print(\"DIV\",self.a/self.b)    \n",
    "\n",
    "obj=calculator(10,15)\n",
    "\n",
    "obj.ADD()\n",
    "obj.SUB()\n",
    "obj.DIV()\n",
    "obj.MUL()"
   ]
  },
  {
   "cell_type": "markdown",
   "metadata": {},
   "source": [
    "### TYPES OF CLASS VARIABlES"
   ]
  },
  {
   "cell_type": "code",
   "execution_count": 27,
   "metadata": {},
   "outputs": [
    {
     "name": "stdout",
     "output_type": "stream",
     "text": [
      "Brand: Samsung\n",
      "Price: 50000\n",
      "Charge Type: B-TYPE\n"
     ]
    }
   ],
   "source": [
    "class phone():\n",
    "    def __init__(self,brand,price,chargertype):\n",
    "        self.brand=brand\n",
    "        self.price=price\n",
    "        self.chargertype=chargertype\n",
    "    def display(self):\n",
    "        print(f\"Brand: {self.brand}\")\n",
    "        print(f\"Price: {self.price}\")\n",
    "        print(f\"Charge Type: {self.chargertype}\")\n",
    "        \n",
    "samsung=phone(\"Samsung\",\"50000\",\"B-TYPE\")\n",
    "samsung.display()"
   ]
  },
  {
   "cell_type": "markdown",
   "metadata": {},
   "source": [
    "#### TYPES OF CLASS METHODS"
   ]
  },
  {
   "cell_type": "code",
   "execution_count": 9,
   "metadata": {},
   "outputs": [
    {
     "name": "stdout",
     "output_type": "stream",
     "text": [
      "2000000\n",
      "charger B_TYPE\n",
      "laptop\n"
     ]
    }
   ],
   "source": [
    "class laptop:\n",
    "    chargertype=\"C-TYPE\"\n",
    "    def __init__(self):\n",
    "        self.brand=\"\"\n",
    "        self.price=34\n",
    "    def setPrice(self,price):\n",
    "        self.price=price\n",
    "    def getPrice(self): #instance method\n",
    "        print(self.price)\n",
    "    @classmethod\n",
    "    def changecharger(cls): #class method\n",
    "        cls.charger=\"B_TYPE\"\n",
    "        print(\"charger\",cls.charger)\n",
    "    @staticmethod\n",
    "    def info():\n",
    "        print(\"laptop\")\n",
    "\n",
    "hp=laptop()\n",
    "#if i create a setprice() and add value \n",
    "hp.setPrice(2000000)\n",
    "\n",
    "hp.getPrice() #before setprice() 34 after setprice(200000)\n",
    "#200000 is printed \n",
    "#laptop.changecharger(laptop) #charger B_TYPE or use decorator\n",
    "\n",
    "laptop.changecharger() #charger B_TYPE\n",
    "hp.info()\n"
   ]
  },
  {
   "cell_type": "markdown",
   "metadata": {},
   "source": [
    "### Python Inheritance"
   ]
  },
  {
   "cell_type": "markdown",
   "metadata": {},
   "source": [
    "Inheritance allows us to define a class that inherits all the methods and properties from another class.\n",
    "\n",
    "Parent class is the class being inherited from, also called base class.\n",
    "\n",
    "Child class is the class that inherits from another class, also called derived class."
   ]
  },
  {
   "cell_type": "markdown",
   "metadata": {},
   "source": [
    "#### Create a Parent Class\n",
    "Any class can be a parent class, so the syntax is the same as creating any other class:"
   ]
  },
  {
   "cell_type": "code",
   "execution_count": 39,
   "metadata": {},
   "outputs": [
    {
     "name": "stdout",
     "output_type": "stream",
     "text": [
      "son's laptop\n",
      "Dads phone\n"
     ]
    }
   ],
   "source": [
    "class dad():\n",
    "    def phone(self):\n",
    "        print(\"Dads phone\")\n",
    "\n",
    "class son(dad):\n",
    "    def laptop(self):\n",
    "        print(\"son's laptop\")\n",
    "\n",
    "ram=son()\n",
    "ram.laptop() #son's laptop\n",
    "ram.phone() #dads phone use dad in class son\n"
   ]
  },
  {
   "cell_type": "markdown",
   "metadata": {},
   "source": [
    "### Multiple inheritance\n",
    "one class can access properties of 2 classes"
   ]
  },
  {
   "cell_type": "code",
   "execution_count": 12,
   "metadata": {},
   "outputs": [
    {
     "name": "stdout",
     "output_type": "stream",
     "text": [
      "son's laptop\n",
      "Dads phone\n",
      "mom's sweet\n",
      "Dads phone\n"
     ]
    }
   ],
   "source": [
    "class dad():\n",
    "    def phone(self):\n",
    "        print(\"Dads phone\")\n",
    "class mom(dad):\n",
    "    def sweet(self):\n",
    "        print(\"mom's sweet\")\n",
    "\n",
    "class son(mom):\n",
    "    def laptop(self):\n",
    "        print(\"son's laptop\")\n",
    "\n",
    "ram=son()\n",
    "ram.laptop() #son's laptop\n",
    "ram.phone() #dads phone use dad in class son\n",
    "ram.sweet() #mom's sweet use dad,mom in son class\n",
    "m=mom()\n",
    "m.phone()\n"
   ]
  },
  {
   "cell_type": "markdown",
   "metadata": {},
   "source": [
    "### MULTILEVEL INHERITANCE"
   ]
  },
  {
   "cell_type": "code",
   "execution_count": 66,
   "metadata": {},
   "outputs": [
    {
     "name": "stdout",
     "output_type": "stream",
     "text": [
      "son's laptop\n",
      "dad's money\n",
      "Grandad's phone\n",
      "Grandad's phone\n"
     ]
    }
   ],
   "source": [
    "class grandad():\n",
    "    def phone(self):\n",
    "        print(\"Grandad's phone\")\n",
    "class dad(grandad):\n",
    "    def money(self):\n",
    "        print(\"dad's money\")\n",
    "\n",
    "class son(dad,grandad):\n",
    "    def laptop(self):\n",
    "        print(\"son's laptop\")\n",
    "\n",
    "ram=son()\n",
    "ram.laptop() #son's laptop\n",
    "ram.money() #dad's money use dad in son class\n",
    "\n",
    "d1=dad()\n",
    "ram.phone() #grandads phone use grandad in class dad\n",
    "d1.phone()\n"
   ]
  },
  {
   "cell_type": "markdown",
   "metadata": {},
   "source": [
    "### HIERARCHIAL INHERITAANCE"
   ]
  },
  {
   "cell_type": "code",
   "execution_count": 52,
   "metadata": {},
   "outputs": [
    {
     "name": "stdout",
     "output_type": "stream",
     "text": [
      "DAD money\n"
     ]
    }
   ],
   "source": [
    "class dad():\n",
    "    def money(self):\n",
    "        print(\"DAD money\")\n",
    "\n",
    "class son1(dad):\n",
    "    pass\n",
    "\n",
    "class son2(dad):\n",
    "    pass\n",
    "\n",
    "class son3(dad):\n",
    "    pass\n",
    "\n",
    "s2=son2()\n",
    "s2.money()"
   ]
  },
  {
   "cell_type": "markdown",
   "metadata": {},
   "source": [
    "### HYBRID INHERITANCE"
   ]
  },
  {
   "cell_type": "code",
   "execution_count": 69,
   "metadata": {},
   "outputs": [
    {
     "name": "stdout",
     "output_type": "stream",
     "text": [
      "DAD money\n",
      "important land\n",
      "DAD money\n"
     ]
    }
   ],
   "source": [
    "class dad():\n",
    "    def money(self):\n",
    "        print(\"DAD money\")\n",
    "class land():\n",
    "    def importance(self):\n",
    "        print(\"important land\")\n",
    "\n",
    "class son1(dad,land):\n",
    "    pass\n",
    "class son2(dad):\n",
    "    pass\n",
    "\n",
    "class son3(son1):\n",
    "    pass\n",
    "\n",
    "s1=son1()\n",
    "s1.money()\n",
    "s1.importance()\n",
    "s3=son3()\n",
    "s3.money()\n",
    "#son1 son2 and son2 to dad heirarchical +multiple = hybrid "
   ]
  },
  {
   "cell_type": "markdown",
   "metadata": {},
   "source": [
    "### SUPER KEYWORD"
   ]
  },
  {
   "cell_type": "code",
   "execution_count": 81,
   "metadata": {},
   "outputs": [
    {
     "name": "stdout",
     "output_type": "stream",
     "text": [
      "A\n",
      "B\n"
     ]
    }
   ],
   "source": [
    "class a():\n",
    "    def __init__(self):\n",
    "        print(\"A\")\n",
    "    def display(self):\n",
    "        print(\"Youre in class a!\")\n",
    "class b():\n",
    "    def  __init__(self):\n",
    "        print(\"B\")\n",
    "\n",
    "    def display(self):\n",
    "        print(\"Youre in class b!\")\n",
    "    \n",
    "obj=a()#a\n",
    "onj=b() #b"
   ]
  },
  {
   "cell_type": "code",
   "execution_count": 83,
   "metadata": {},
   "outputs": [
    {
     "name": "stdout",
     "output_type": "stream",
     "text": [
      "A\n"
     ]
    }
   ],
   "source": [
    "#inherit a\n",
    "class a():\n",
    "    def __init__(self):\n",
    "        print(\"A\")\n",
    "    def display(self):\n",
    "        print(\"Youre in class a!\")\n",
    "class b(a):\n",
    "    \n",
    "    def display(self):\n",
    "        print(\"Youre in class b!\")\n",
    "onj=b() #A return parents constructor"
   ]
  },
  {
   "cell_type": "code",
   "execution_count": 84,
   "metadata": {},
   "outputs": [
    {
     "name": "stdout",
     "output_type": "stream",
     "text": [
      "A\n",
      "B\n"
     ]
    }
   ],
   "source": [
    "#use super keyword to inherit constructor from a\n",
    "class a():\n",
    "    def __init__(self):\n",
    "        print(\"A\")\n",
    "    def display(self):\n",
    "        print(\"Youre in class a!\")\n",
    "class b(a):\n",
    "    def  __init__(self):\n",
    "        super().__init__()\n",
    "        print(\"B\")\n",
    "    def display(self):\n",
    "        print(\"Youre in class b!\")\n",
    "onj=b()"
   ]
  },
  {
   "cell_type": "code",
   "execution_count": 14,
   "metadata": {},
   "outputs": [
    {
     "name": "stdout",
     "output_type": "stream",
     "text": [
      "A\n",
      "C\n"
     ]
    }
   ],
   "source": [
    "class a():\n",
    "    def __init__(self):\n",
    "        print(\"A\")\n",
    "    def display(self):\n",
    "        print(\"Youre in class a!\")\n",
    "class b():\n",
    "    def  __init__(self):\n",
    "        print(\"B\")\n",
    "    def display(self):\n",
    "        print(\"Youre in class b!\")\n",
    "class c(a,b):\n",
    "    def __init__(self):\n",
    "        super().__init__()\n",
    "        print(\"C\")\n",
    "    def display(self):\n",
    "        print(\"Youre in class c!\")\n",
    "            \n",
    "#onj=b()\n",
    "ob=c() # A C"
   ]
  },
  {
   "cell_type": "code",
   "execution_count": 96,
   "metadata": {},
   "outputs": [
    {
     "name": "stdout",
     "output_type": "stream",
     "text": [
      "23\n"
     ]
    }
   ],
   "source": [
    "import random \n",
    "print(random.randrange(1,101))"
   ]
  },
  {
   "cell_type": "markdown",
   "metadata": {},
   "source": [
    "### POLYMORPHISM"
   ]
  },
  {
   "cell_type": "markdown",
   "metadata": {},
   "source": [
    "having many forms ,it has same function being used for different types.the key differnce is the data type and number of  arguments used in function"
   ]
  },
  {
   "cell_type": "code",
   "execution_count": 4,
   "metadata": {},
   "outputs": [
    {
     "name": "stdout",
     "output_type": "stream",
     "text": [
      "addd\n",
      "30\n",
      "50\n",
      "3\n",
      "6\n"
     ]
    }
   ],
   "source": [
    "def add():\n",
    "    print(\"addd\")\n",
    "    \n",
    "add()\n",
    "#if\n",
    "def add(a,b):\n",
    "    print(a+b)\n",
    "    \n",
    "add(10,20)\n",
    "\n",
    "def add(a=10):\n",
    "    print(a)\n",
    "    \n",
    "add(50)\n",
    "\n",
    "def add(a,b,c=0):\n",
    "    print(a+b+c)\n",
    "\n",
    "add(1,2) \n",
    "add(1,2,3)"
   ]
  },
  {
   "cell_type": "markdown",
   "metadata": {},
   "source": [
    "create a class called animal with a method sound() that prints \"ANIMAL makes a sound\" .create a derived class called Dog that inherits from Animal andoverrides the sound() methos to print \"dog Barks\".Create another derived class called Bird that inherts from Animal and override the sound() method to print \"Birds Sing\" "
   ]
  },
  {
   "cell_type": "code",
   "execution_count": 7,
   "metadata": {},
   "outputs": [
    {
     "name": "stdout",
     "output_type": "stream",
     "text": [
      "The dog barks\n",
      "The bird chirps\n",
      "The animal makes a sound\n"
     ]
    }
   ],
   "source": [
    "class Animal():\n",
    "    def sound(self):\n",
    "        print(\"The animal makes a sound\")\n",
    "\n",
    "class Dog(Animal):\n",
    "    def sound(self):\n",
    "        print(\"The dog barks\")\n",
    "class Bird(Animal):\n",
    "    def sound(self):\n",
    "        print(\"The bird chirps\")\n",
    "\n",
    "d=Dog()\n",
    "b=Bird()\n",
    "a=Animal()\n",
    "d.sound()\n",
    "b.sound()\n",
    "a.sound()"
   ]
  },
  {
   "cell_type": "markdown",
   "metadata": {},
   "source": [
    "create a base class shape method area() that return 0 .create derived class Rectangle that inherits  from shape and overrides the area() method to calculate and return area of the rectangle"
   ]
  },
  {
   "cell_type": "code",
   "execution_count": 13,
   "metadata": {},
   "outputs": [
    {
     "name": "stdout",
     "output_type": "stream",
     "text": [
      "0\n"
     ]
    },
    {
     "data": {
      "text/plain": [
       "600"
      ]
     },
     "execution_count": 13,
     "metadata": {},
     "output_type": "execute_result"
    }
   ],
   "source": [
    "class Shape():\n",
    "    def area(self):\n",
    "        return 0\n",
    "class Rectangle(Shape):\n",
    "    def area(self):\n",
    "        l=20\n",
    "        b=30\n",
    "        return (l*b)\n",
    "s=Shape()\n",
    "print(s.area())\n",
    "   \n",
    "r=Rectangle()\n",
    "r.area()\n"
   ]
  },
  {
   "cell_type": "markdown",
   "metadata": {},
   "source": [
    "create a base class called Person with a constructir that takes a name as a parameter .create derived class called Students that inherits from Person and has a constructor that takes a parameter called grade.write a method in Student to display the name and use super keyword to achieve this"
   ]
  },
  {
   "cell_type": "code",
   "execution_count": 35,
   "metadata": {},
   "outputs": [
    {
     "name": "stdout",
     "output_type": "stream",
     "text": [
      "John A-Grade\n"
     ]
    }
   ],
   "source": [
    "class Person():\n",
    "    def __init__(self, name):\n",
    "        self.name=name\n",
    "    def display(self): \n",
    "        print(self.name)\n",
    "        \n",
    "\n",
    "class Students(Person):\n",
    "    def __init__(self,name,grade):\n",
    "        super().__init__(name)\n",
    "        self.grade=grade\n",
    "    def display(self):\n",
    "        print(self.name,self.grade)\n",
    "\n",
    "#p=Person(\"john\")\n",
    "#p.display()  \n",
    "s=Students(\"John\",\"A-Grade\")\n",
    "s.display()\n",
    "        "
   ]
  },
  {
   "cell_type": "markdown",
   "metadata": {},
   "source": [
    "create a base class calledVehicle eith a method start() that  prints \"vehicle strated\".create a derived class called CAR  that ingerits from venhicle and overrides the start() method to print \"car started\""
   ]
  },
  {
   "cell_type": "code",
   "execution_count": 40,
   "metadata": {},
   "outputs": [
    {
     "name": "stdout",
     "output_type": "stream",
     "text": [
      "vehicle started\n",
      "car started\n"
     ]
    }
   ],
   "source": [
    "class Vehicle():\n",
    "    def start(self):\n",
    "        print(\"vehicle started\")\n",
    "class Car(Vehicle):\n",
    "    def start(self):\n",
    "        print(\"car started\")\n",
    "v=Vehicle()\n",
    "c=Car()\n",
    "v.start()\n",
    "c.start()"
   ]
  },
  {
   "cell_type": "markdown",
   "metadata": {},
   "source": [
    "create a base class called Employee woth properties name and salary .create a derived class called MAnager that inherits from Employee and adds a property department.Write a methos in MAnager to display the name,salary and department of the manager"
   ]
  },
  {
   "cell_type": "code",
   "execution_count": 45,
   "metadata": {},
   "outputs": [
    {
     "name": "stdout",
     "output_type": "stream",
     "text": [
      "name: John\n",
      "salary: 50000\n",
      "Department: CSE\n"
     ]
    }
   ],
   "source": [
    "class Employee():\n",
    "    def __init__(self, name, salary):\n",
    "        self.name=name\n",
    "        self.salary=salary\n",
    "    \n",
    "class Manager(Employee):\n",
    "    def __init__(self,name,salary,department):\n",
    "        super().__init__(name,salary)\n",
    "        self.department=department\n",
    "    def display(self):\n",
    "        print(f\"name: {self.name}\")\n",
    "        print(f\"salary: {self.salary}\")\n",
    "        print(f\"Department: {self.department}\")\n",
    "\n",
    "m=Manager(\"John\",\"50000\",\"CSE\")\n",
    "m.display()\n",
    "\n"
   ]
  },
  {
   "cell_type": "markdown",
   "metadata": {},
   "source": [
    "### ENCAPSULATION"
   ]
  },
  {
   "cell_type": "code",
   "execution_count": 48,
   "metadata": {},
   "outputs": [
    {
     "name": "stdout",
     "output_type": "stream",
     "text": [
      "Microsoft\n"
     ]
    }
   ],
   "source": [
    "class company():\n",
    "    def __init__(self):\n",
    "        self.companyname=\"Google\"\n",
    "\n",
    "c=company()\n",
    "c.companyname=\"Microsoft\" #anyone can rewrite\n",
    "print(c.companyname)\n"
   ]
  },
  {
   "cell_type": "markdown",
   "metadata": {},
   "source": [
    "## Access modifiers\n",
    "#### __ =>private\n",
    "#### no underscore =>public\n",
    "#### _ =>protected (child class that inherits it and the class varibale can access it )"
   ]
  },
  {
   "cell_type": "code",
   "execution_count": 15,
   "metadata": {},
   "outputs": [
    {
     "name": "stdout",
     "output_type": "stream",
     "text": [
      "Google\n"
     ]
    },
    {
     "ename": "AttributeError",
     "evalue": "'company' object has no attribute '__companyname'",
     "output_type": "error",
     "traceback": [
      "\u001b[1;31m---------------------------------------------------------------------------\u001b[0m",
      "\u001b[1;31mAttributeError\u001b[0m                            Traceback (most recent call last)",
      "Cell \u001b[1;32mIn[15], line 10\u001b[0m\n\u001b[0;32m      8\u001b[0m c\u001b[38;5;241m=\u001b[39mcompany()\n\u001b[0;32m      9\u001b[0m c\u001b[38;5;241m.\u001b[39mcompanyname()  \u001b[38;5;66;03m#google only able to view it using this can print __companyname variable\u001b[39;00m\n\u001b[1;32m---> 10\u001b[0m \u001b[38;5;28mprint\u001b[39m(\u001b[43mc\u001b[49m\u001b[38;5;241;43m.\u001b[39;49m\u001b[43m__companyname\u001b[49m)\n",
      "\u001b[1;31mAttributeError\u001b[0m: 'company' object has no attribute '__companyname'"
     ]
    }
   ],
   "source": [
    "class company():\n",
    "    def __init__(self):\n",
    "        self.__companyname=\"Google\" #__varibale name ==>private variable\n",
    "    def companyname(self):\n",
    "        print(self.__companyname)#only can be accessed inside class\n",
    "        \n",
    "\n",
    "c=company()\n",
    "c.companyname()  #google only able to view it using this can print __companyname variable\n",
    "print(c.__companyname)"
   ]
  },
  {
   "cell_type": "code",
   "execution_count": 57,
   "metadata": {},
   "outputs": [
    {
     "name": "stdout",
     "output_type": "stream",
     "text": [
      "Google\n"
     ]
    }
   ],
   "source": [
    "#protected example\n",
    "class company():\n",
    "    def __init__(self):\n",
    "        self._companyname=\"Google\"\n",
    "class b(company):\n",
    "    pass\n",
    "b1=b()\n",
    "print(b1._companyname) #protected\n",
    "\n",
    "\n"
   ]
  },
  {
   "cell_type": "markdown",
   "metadata": {},
   "source": [
    "### ABSTRACTION\n",
    "hiding the unnecessary details"
   ]
  },
  {
   "cell_type": "code",
   "execution_count": 11,
   "metadata": {},
   "outputs": [
    {
     "name": "stdout",
     "output_type": "stream",
     "text": [
      "swift is a moving backward\n"
     ]
    }
   ],
   "source": [
    "from abc import ABC,abstractmethod\n",
    "class car(ABC):\n",
    "    @abstractmethod\n",
    "    def mf(self):\n",
    "        pass\n",
    "    @abstractmethod\n",
    "    def mb(self):\n",
    "        print(\"hello\")\n",
    "    @abstractmethod\n",
    "    def fm(self):\n",
    "        pass\n",
    "class swift(car):\n",
    "    \n",
    "    def mf(self):\n",
    "        print(\"swift is a moving forward\")\n",
    "    def mb(self):\n",
    "        print(\"swift is a moving backward\")\n",
    "    def fm(self):\n",
    "        print(\"swift is a fast moving\")\n",
    "\n",
    "class innova(car):\n",
    "    def mf(self):\n",
    "        print(\"innove is a moving forward\")\n",
    "    def mb(self):\n",
    "        print(\"innova is a moving backward\")\n",
    "    def fm(self):\n",
    "        print(\"innova is a fast moving\")\n",
    "s=swift()\n",
    "s.mb()"
   ]
  },
  {
   "cell_type": "code",
   "execution_count": 19,
   "metadata": {},
   "outputs": [
    {
     "name": "stdout",
     "output_type": "stream",
     "text": [
      "child constructor\n",
      "Hello, I am a child\n"
     ]
    }
   ],
   "source": [
    "from abc import ABC\n",
    "class dad(ABC):\n",
    "    \n",
    "    def hello(self):\n",
    "        print(\"Hello, I am a dad\")\n",
    "\n",
    "class child(dad):\n",
    "    def __init__(self):\n",
    "        print(\"child constructor\")\n",
    "    def hello(self):\n",
    "        print(\"Hello, I am a child\")\n",
    "        \n",
    "c=child()\n",
    "c.hello()\n",
    "\n",
    "        "
   ]
  },
  {
   "cell_type": "markdown",
   "metadata": {},
   "source": [
    "# EXCEPTION HANDLING\n"
   ]
  },
  {
   "cell_type": "code",
   "execution_count": 26,
   "metadata": {},
   "outputs": [
    {
     "name": "stdout",
     "output_type": "stream",
     "text": [
      "hi\n",
      "hey\n"
     ]
    },
    {
     "ename": "NameError",
     "evalue": "name 'printt' is not defined",
     "output_type": "error",
     "traceback": [
      "\u001b[1;31m---------------------------------------------------------------------------\u001b[0m",
      "\u001b[1;31mNameError\u001b[0m                                 Traceback (most recent call last)",
      "Cell \u001b[1;32mIn[26], line 5\u001b[0m\n\u001b[0;32m      3\u001b[0m \u001b[38;5;28mprint\u001b[39m(\u001b[38;5;124m\"\u001b[39m\u001b[38;5;124mhi\u001b[39m\u001b[38;5;124m\"\u001b[39m)\n\u001b[0;32m      4\u001b[0m \u001b[38;5;28mprint\u001b[39m(\u001b[38;5;124m\"\u001b[39m\u001b[38;5;124mhey\u001b[39m\u001b[38;5;124m\"\u001b[39m)\n\u001b[1;32m----> 5\u001b[0m \u001b[43mprintt\u001b[49m(\u001b[38;5;124m\"\u001b[39m\u001b[38;5;124mhow\u001b[39m\u001b[38;5;124m\"\u001b[39m) \u001b[38;5;66;03m#coz error  Nameerror\u001b[39;00m\n\u001b[0;32m      6\u001b[0m \u001b[38;5;66;03m# logical error\u001b[39;00m\n\u001b[0;32m      7\u001b[0m a\u001b[38;5;241m=\u001b[39m\u001b[38;5;241m10\u001b[39m\n",
      "\u001b[1;31mNameError\u001b[0m: name 'printt' is not defined"
     ]
    }
   ],
   "source": [
    "#compile time error\n",
    "# error while python reading each line\n",
    "print(\"hi\")\n",
    "print(\"hey\")\n",
    "printt(\"how\") #coz error  Nameerror\n",
    "# logical error\n",
    "a=10\n",
    "b=20\n",
    "print(a+a)\n",
    "\n"
   ]
  },
  {
   "cell_type": "code",
   "execution_count": 27,
   "metadata": {},
   "outputs": [],
   "source": [
    "a=int(input())\n",
    "b=int(input())\n",
    "print(a+b) # a= 10 b=\"hi\" =>valueerror runtime error "
   ]
  },
  {
   "cell_type": "code",
   "execution_count": 1,
   "metadata": {},
   "outputs": [
    {
     "ename": "TypeError",
     "evalue": "catching classes that do not inherit from BaseException is not allowed",
     "output_type": "error",
     "traceback": [
      "\u001b[1;31m---------------------------------------------------------------------------\u001b[0m",
      "\u001b[1;31mValueError\u001b[0m                                Traceback (most recent call last)",
      "Cell \u001b[1;32mIn[1], line 3\u001b[0m\n\u001b[0;32m      2\u001b[0m \u001b[38;5;28;01mtry\u001b[39;00m:\n\u001b[1;32m----> 3\u001b[0m     a\u001b[38;5;241m=\u001b[39m\u001b[38;5;28;43mint\u001b[39;49m\u001b[43m(\u001b[49m\u001b[38;5;28;43minput\u001b[39;49m\u001b[43m(\u001b[49m\u001b[43m)\u001b[49m\u001b[43m)\u001b[49m\n\u001b[0;32m      4\u001b[0m     b\u001b[38;5;241m=\u001b[39m\u001b[38;5;28mint\u001b[39m(\u001b[38;5;28minput\u001b[39m())\n",
      "\u001b[1;31mValueError\u001b[0m: invalid literal for int() with base 10: ''",
      "\nDuring handling of the above exception, another exception occurred:\n",
      "\u001b[1;31mTypeError\u001b[0m                                 Traceback (most recent call last)",
      "Cell \u001b[1;32mIn[1], line 6\u001b[0m\n\u001b[0;32m      4\u001b[0m     b\u001b[38;5;241m=\u001b[39m\u001b[38;5;28mint\u001b[39m(\u001b[38;5;28minput\u001b[39m())\n\u001b[0;32m      5\u001b[0m     \u001b[38;5;28mprint\u001b[39m(a\u001b[38;5;241m+\u001b[39mb)\n\u001b[1;32m----> 6\u001b[0m \u001b[38;5;28;01mexcept\u001b[39;00m \u001b[38;5;167;01mValueError\u001b[39;00m():\n\u001b[0;32m      7\u001b[0m     \u001b[38;5;28mprint\u001b[39m(\u001b[38;5;124m\"\u001b[39m\u001b[38;5;124minvalid\u001b[39m\u001b[38;5;124m\"\u001b[39m)\n",
      "\u001b[1;31mTypeError\u001b[0m: catching classes that do not inherit from BaseException is not allowed"
     ]
    }
   ],
   "source": [
    "#hence use try except\n",
    "try:\n",
    "    a=int(input())\n",
    "    b=int(input())\n",
    "    print(a+b)\n",
    "except ValueError():\n",
    "    print(\"invalid\")"
   ]
  },
  {
   "cell_type": "markdown",
   "metadata": {},
   "source": [
    "# JSON handling\n"
   ]
  },
  {
   "cell_type": "markdown",
   "metadata": {},
   "source": [
    "JSON  (JavaScript Object Notation) is a file that is mainly used to store and transfer data mostly between a server and a web application.\n"
   ]
  },
  {
   "cell_type": "code",
   "execution_count": 1,
   "metadata": {},
   "outputs": [],
   "source": [
    "# importing json module\n",
    "import json"
   ]
  },
  {
   "cell_type": "markdown",
   "metadata": {},
   "source": [
    "#### Data Types in JSON:\n",
    "\n",
    "String: Text enclosed in double quotes. Example: \"hello\"\n",
    "Number: Numeric values. Example: 42, 3.14\n",
    "Boolean: true or false\n",
    "Null: Represents an empty or non-existent value: null\n",
    "Array: Ordered list of values: [1, 2, \"three\"]\n",
    "Object: Collection of key-value pairs: {\"key\": \"value\"}\n"
   ]
  },
  {
   "cell_type": "markdown",
   "metadata": {},
   "source": [
    "#### Parsing JSON String\n",
    "The loads() method is used to parse JSON strings in Python and the result will be a Python dictionary.\n",
    "\n",
    "Syntax:\n",
    "\n",
    "json.loads(json_string)"
   ]
  },
  {
   "cell_type": "code",
   "execution_count": 2,
   "metadata": {},
   "outputs": [
    {
     "name": "stdout",
     "output_type": "stream",
     "text": [
      "Data after conversion\n",
      "{'name': 'Nitin', 'department': 'Finance', 'company': 'GFG'}\n",
      "Finance\n",
      "\n",
      "Type of data\n",
      "<class 'dict'>\n"
     ]
    }
   ],
   "source": [
    "# Python program to convert JSON to Dict\n",
    "\n",
    "\n",
    "import json\n",
    "\n",
    "# JSON string\n",
    "employee ='{\"name\": \"Nitin\", \"department\":\"Finance\",\\\n",
    "\"company\":\"GFG\"}'\n",
    "\n",
    "# Convert string to Python dict\n",
    "employee_dict = json.loads(employee)\n",
    "print(\"Data after conversion\")\n",
    "print(employee_dict)\n",
    "print(employee_dict['department'])\n",
    "\n",
    "print(\"\\nType of data\")\n",
    "print(type(employee_dict))\n"
   ]
  },
  {
   "cell_type": "markdown",
   "metadata": {},
   "source": [
    "#### Reading JSON file\n",
    "load() method can read a file that contains a JSON object. Suppose you have a file named student.json that contains student data and we want to read that file.\n",
    "\n",
    "Syntax:\n",
    "\n",
    "json.load(file_object)\n",
    "\n",
    "to do file handling in json file \n",
    "[text](https://www.geeksforgeeks.org/read-json-file-using-python/)"
   ]
  },
  {
   "cell_type": "code",
   "execution_count": null,
   "metadata": {},
   "outputs": [],
   "source": [
    "# Python program to read\n",
    "# json file\n",
    "\n",
    "\n",
    "import json\n",
    "\n",
    "# Opening JSON file\n",
    "f = open('data.json',)\n",
    "\n",
    "# returns JSON object as\n",
    "# a dictionary\n",
    "data = json.load(f)\n",
    "\n",
    "# Iterating through the json\n",
    "# list\n",
    "for i in data:\n",
    "\tprint(i)\n",
    "\n",
    "# Closing file\n",
    "f.close()\n"
   ]
  },
  {
   "cell_type": "markdown",
   "metadata": {},
   "source": [
    "# Python program to read\n",
    "# json file\n",
    "\n",
    "\n",
    "import json\n",
    "\n",
    "# Opening JSON file\n",
    "f = open('data.json',)\n",
    "\n",
    "# returns JSON object as\n",
    "# a dictionary\n",
    "data = json.load(f)\n",
    "\n",
    "# Iterating through the json\n",
    "# list\n",
    "for i in data:\n",
    "\tprint(i)\n",
    "\n",
    "# Closing file\n",
    "f.close()\n"
   ]
  },
  {
   "cell_type": "code",
   "execution_count": 36,
   "metadata": {},
   "outputs": [
    {
     "ename": "TypeError",
     "evalue": "string indices must be integers",
     "output_type": "error",
     "traceback": [
      "\u001b[1;31m---------------------------------------------------------------------------\u001b[0m",
      "\u001b[1;31mTypeError\u001b[0m                                 Traceback (most recent call last)",
      "Cell \u001b[1;32mIn[36], line 16\u001b[0m\n\u001b[0;32m     14\u001b[0m \u001b[38;5;66;03m# Serializing json\u001b[39;00m\n\u001b[0;32m     15\u001b[0m json_object \u001b[38;5;241m=\u001b[39m json\u001b[38;5;241m.\u001b[39mdumps(dictionary)\n\u001b[1;32m---> 16\u001b[0m \u001b[38;5;28mprint\u001b[39m(\u001b[43mjson_object\u001b[49m\u001b[43m[\u001b[49m\u001b[38;5;124;43m\"\u001b[39;49m\u001b[38;5;124;43mname\u001b[39;49m\u001b[38;5;124;43m\"\u001b[39;49m\u001b[43m]\u001b[49m)\n\u001b[0;32m     17\u001b[0m \u001b[38;5;28mprint\u001b[39m(\u001b[38;5;28mtype\u001b[39m(json_object))\n\u001b[0;32m     18\u001b[0m \u001b[38;5;28mprint\u001b[39m(\u001b[38;5;28mtype\u001b[39m(dictionary))\n",
      "\u001b[1;31mTypeError\u001b[0m: string indices must be integers"
     ]
    }
   ],
   "source": [
    "# Python program to convert\n",
    "# Python to JSON\n",
    "\n",
    "\n",
    "import json\n",
    "\n",
    "# Data to be written\n",
    "dictionary = {\n",
    "\t\"name\": \"sunil\",\n",
    "\t\"department\": \"HR\",\n",
    "\t\"Company\": 'GFG'\n",
    "}\n",
    "\n",
    "# Serializing json\n",
    "json_object = json.dumps(dictionary)\n",
    "print(json_object[\"name\"])\n",
    "print(type(json_object))\n",
    "print(type(dictionary))"
   ]
  },
  {
   "cell_type": "code",
   "execution_count": 7,
   "metadata": {},
   "outputs": [],
   "source": [
    "# Python program to write JSON\n",
    "# to a file\n",
    "\n",
    "\n",
    "import json\n",
    "\n",
    "# Data to be written\n",
    "dictionary ={\n",
    "\t\"name\" : \"Nisha\",\n",
    "\t\"rollno\" : 420,\n",
    "\t\"cgpa\" : 10.10,\n",
    "\t\"phonenumber\" : \"1234567890\"\n",
    "}\n",
    "\n",
    "with open(\"sample.json\", \"w\") as outfile:\n",
    "\tjson.dump(dictionary, outfile)\n"
   ]
  },
  {
   "cell_type": "markdown",
   "metadata": {},
   "source": [
    "##### indent\n",
    "to format json string"
   ]
  },
  {
   "cell_type": "code",
   "execution_count": 11,
   "metadata": {},
   "outputs": [
    {
     "name": "stdout",
     "output_type": "stream",
     "text": [
      "[\n",
      "    {\n",
      "        \"studentid\": 1,\n",
      "        \"name\": \"Nikhil\",\n",
      "        \"subjects\": [\n",
      "            \"Python\",\n",
      "            \"Data Structures\"\n",
      "        ]\n",
      "    },\n",
      "    {\n",
      "        \"studentid\": 2,\n",
      "        \"name\": \"Nisha\",\n",
      "        \"subjects\": [\n",
      "            \"Java\",\n",
      "            \"C++\",\n",
      "            \"R Lang\"\n",
      "        ]\n",
      "    }\n",
      "]\n",
      "<class 'str'>\n"
     ]
    }
   ],
   "source": [
    "# Import required libraries\n",
    "import json\n",
    "\n",
    "# Initialize JSON data\n",
    "json_data = '[ {\"studentid\": 1, \"name\": \"Nikhil\", \"subjects\": [\"Python\", \"Data Structures\"]},\\\n",
    "{\"studentid\": 2, \"name\": \"Nisha\", \"subjects\": [\"Java\", \"C++\", \"R Lang\"]} ]'\n",
    "\n",
    "# Create Python object from JSON string \n",
    "# data\n",
    "data = json.loads(json_data)\n",
    "\n",
    "# Pretty Print JSON\n",
    "json_formatted_str = json.dumps(data, indent=4)\n",
    "print(json_formatted_str)\n",
    "print(type(json_formatted_str))\n"
   ]
  },
  {
   "cell_type": "code",
   "execution_count": 12,
   "metadata": {},
   "outputs": [
    {
     "name": "stdout",
     "output_type": "stream",
     "text": [
      "[\n",
      "    {\n",
      "        \"company\": \"GFG\",\n",
      "        \"name\": \"Nikhil\",\n",
      "        \"studentid\": 1,\n",
      "        \"subjects\": [\n",
      "            \"Python\",\n",
      "            \"Data Structures\"\n",
      "        ]\n",
      "    },\n",
      "    {\n",
      "        \"company\": \"GFG\",\n",
      "        \"name\": \"Nisha\",\n",
      "        \"studentid\": 2,\n",
      "        \"subjects\": [\n",
      "            \"Java\",\n",
      "            \"C++\",\n",
      "            \"R Lang\"\n",
      "        ]\n",
      "    }\n",
      "]\n"
     ]
    }
   ],
   "source": [
    "#sort_keys to sort json data\n",
    "# Import required libraries\n",
    "import json\n",
    "\n",
    "# Initialize JSON data\n",
    "json_data = '[ {\"studentid\": 1, \"name\": \"Nikhil\", \"subjects\":\\\n",
    "[\"Python\", \"Data Structures\"], \"company\":\"GFG\"},\\\n",
    "{\"studentid\": 2, \"name\": \"Nisha\", \"subjects\":\\\n",
    "[\"Java\", \"C++\", \"R Lang\"], \"company\":\"GFG\"} ]'\n",
    "\n",
    "# Create Python object from JSON string \n",
    "# data\n",
    "data = json.loads(json_data)\n",
    "\n",
    "# Pretty Print JSON\n",
    "json_formatted_str = json.dumps(data, indent=4, sort_keys=True)\n",
    "print(json_formatted_str)\n"
   ]
  },
  {
   "cell_type": "code",
   "execution_count": 186,
   "metadata": {},
   "outputs": [
    {
     "name": "stdout",
     "output_type": "stream",
     "text": [
      "['name', 'age', 'place']\n",
      "{'name': 'jony', 'age': 22, 'place': 'chennai'}\n"
     ]
    },
    {
     "ename": "",
     "evalue": "",
     "output_type": "error",
     "traceback": [
      "\u001b[1;31mThe Kernel crashed while executing code in the current cell or a previous cell. \n",
      "\u001b[1;31mPlease review the code in the cell(s) to identify a possible cause of the failure. \n",
      "\u001b[1;31mClick <a href='https://aka.ms/vscodeJupyterKernelCrash'>here</a> for more info. \n",
      "\u001b[1;31mView Jupyter <a href='command:jupyter.viewOutput'>log</a> for further details."
     ]
    }
   ],
   "source": [
    "#python\n",
    "dict1={\n",
    "    \"name\":\"shabana\",\"age\":20,\"place\":\"cbe\"\n",
    "}\n",
    "l=list(dict1)\n",
    "print(l)\n",
    "\n",
    "\n",
    "A = [\"jony\",22,\"chennai\"]\n",
    "\n",
    "\n",
    "'''\n",
    "dict[\"name\"]=\"jony\"\n",
    "dict[\"age\"]=22\n",
    "dict[\"place\"]=\"chennai\"\n",
    "'''\n",
    "dict2={\"name\":\"jony\",\"age\":20,\"place\":\"cbe\"}\n",
    "dict1.update(dict2)\n",
    "#print(dict1)\n",
    "\n",
    "dict1={\n",
    "    \"name\":\"shabana\",\"age\":20,\"place\":\"cbe\"\n",
    "}\n",
    "'''\n",
    "for x in dict1.keys():\n",
    "    for y in d:\n",
    "        print(dict(map(x,y))) \n",
    "\n",
    "'''\n",
    "\n",
    "\n",
    "myDict = { l:A for (l,A) in zip(l, A)}  \n",
    "\n",
    "\n",
    "print (myDict)\n",
    "\n",
    "\n",
    "    "
   ]
  }
 ],
 "metadata": {
  "kernelspec": {
   "display_name": "Python 3",
   "language": "python",
   "name": "python3"
  },
  "language_info": {
   "codemirror_mode": {
    "name": "ipython",
    "version": 3
   },
   "file_extension": ".py",
   "mimetype": "text/x-python",
   "name": "python",
   "nbconvert_exporter": "python",
   "pygments_lexer": "ipython3",
   "version": "3.10.11"
  }
 },
 "nbformat": 4,
 "nbformat_minor": 2
}
