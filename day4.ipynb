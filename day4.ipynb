{
 "cells": [
  {
   "cell_type": "markdown",
   "metadata": {},
   "source": [
    "## Python Arrays\n",
    "Note: Python does not have built-in support for Arrays, but Python Lists can be used instead.\n",
    "\n",
    "#### Arrays\n",
    "Note: This page shows you how to use LISTS as ARRAYS, however, to work with arrays in Python you will have to import a library, like the NumPy library.\n",
    "\n",
    "Arrays are used to store multiple values in one single variable:\n",
    "\n",
    "Example Get your own Python Server\n",
    "Create an array containing car names:\n",
    "\n",
    "cars = [\"Ford\", \"Volvo\", \"BMW\"]\n",
    "What is an Array?\n",
    "An array is a special variable, which can hold more than one value at a time.\n",
    "\n",
    "If you have a list of items (a list of car names, for example), storing the cars in single variables could look like this:\n",
    "\n",
    "car1 = \"Ford\"\n",
    "car2 = \"Volvo\"\n",
    "car3 = \"BMW\"\n",
    "However, what if you want to loop through the cars and find a specific one? And what if you had not 3 cars, but 300?\n",
    "\n",
    "The solution is an array!\n",
    "\n",
    "An array can hold many values under a single name, and you can access the values by referring to an index number.\n",
    "\n",
    "Access the Elements of an Array\n",
    "You refer to an array element by referring to the index number.\n",
    "\n",
    "\n",
    "The Length of an Array\n",
    "Use the len() method to return the length of an array (the number of elements in an array).\n",
    "\n",
    "\n",
    "\n",
    "\n",
    "\n",
    "\n",
    "\n"
   ]
  },
  {
   "cell_type": "code",
   "execution_count": null,
   "metadata": {},
   "outputs": [],
   "source": [
    "cars = [\"Ford\", \"Volvo\", \"BMW\"]\n",
    "#Get the value of the first array item:\n",
    "\n",
    "x = cars[0]\n",
    "print(x)\n",
    "#Modify the value of the first array item:\n",
    "\n",
    "cars[0] = \"Toyota\"\n",
    "x=cars[0]\n",
    "print(x)\n",
    "#Return the number of elements in the cars array:\n",
    "\n",
    "x = len(cars)\n",
    "print(x)\n",
    "\n",
    "#Print each item in the cars array:\n",
    "#Looping Array Elements\n",
    "#You can use the for in loop to loop through all the elements of an array.\n",
    "for x in cars:\n",
    "  print(x)\n",
    "\n",
    "#You can use the append() method to add an element to an array.\n",
    "\n",
    "#Add one more element to the cars array:\n",
    "\n",
    "cars.append(\"Honda\")\n",
    "print(cars)\n",
    "#Removing Array Elements\n",
    "#You can use the pop() method to remove an element from the array.\n",
    "\n",
    "#Delete the second element of the cars array:\n",
    "\n",
    "cars.pop(1)\n",
    "print(cars)\n",
    "#You can also use the remove() method to remove an element from the array.\n",
    "\n",
    "\n",
    "#Delete the element that has the value \"Volvo\":\n",
    "\n",
    "#cars.remove(\"Volvo\")\n",
    "print(cars)"
   ]
  },
  {
   "cell_type": "code",
   "execution_count": null,
   "metadata": {},
   "outputs": [],
   "source": [
    "#loop\n",
    "x=int(input())\n",
    "y=int(input())\n",
    "for i in range(x,y):\n",
    "    print(i) \n",
    "'''\n",
    "10\n",
    "20\n",
    "10\n",
    "11\n",
    "12\n",
    "13\n",
    "14\n",
    "15\n",
    "16\n",
    "17\n",
    "18\n",
    "19\n",
    "'''\n",
    "\n",
    "x=int(input())\n",
    "for i in range(1,x):\n",
    "    if (i%2==0):\n",
    "        print(i)\n",
    "'''20\n",
    "2\n",
    "4\n",
    "6\n",
    "8\n",
    "10\n",
    "12\n",
    "14\n",
    "16\n",
    "18'''"
   ]
  },
  {
   "cell_type": "markdown",
   "metadata": {},
   "source": [
    "### CLASS AND OBJECTS\n"
   ]
  },
  {
   "cell_type": "markdown",
   "metadata": {},
   "source": []
  },
  {
   "cell_type": "code",
   "execution_count": null,
   "metadata": {},
   "outputs": [],
   "source": [
    "class goa:\n",
    "    name=\"tyughv\"\n",
    "    drink=\"\"\n",
    "    def party(self):\n",
    "        print(\"party\")\n",
    "    def beach(self):\n",
    "        print(\"enjoy beach\")\n",
    "        \n",
    "#to get ticket to goa\n",
    "ramesh=goa()#ramesh obj is created for class goa\n",
    "suresh=goa()#suresh obj is created for class goa\n",
    "print(ramesh.name) #doesnt print anything therefore set name=\"tyughv\"\n",
    "#but his name is other therfore\n",
    "ramesh.name=\"Ramesh\"\n",
    "suresh.name=\"Suresh\"\n",
    "ramesh.party()\n",
    "suresh.beach()\n",
    "ramesh.drink=\"yes\"\n",
    "suresh.drink=\"no\"\n",
    "#add name=\"\"\n",
    "\n",
    "#register in goa\n",
    "print(ramesh.name)\n",
    "#go to suresh\n",
    "print(suresh.name) #tyughv\n",
    "\n",
    "print(suresh.name) #\n",
    "print(\"drink:\",ramesh.drink)\n",
    "print(suresh.name)\n",
    "print(\"drink:\",suresh.drink)\n"
   ]
  },
  {
   "cell_type": "markdown",
   "metadata": {},
   "source": [
    "### Create a class called laptop and create a following variables and functions\n",
    "variable=>Price,Processor,Ram\n",
    "### create object HP,DELL,LENOVO"
   ]
  },
  {
   "cell_type": "code",
   "execution_count": null,
   "metadata": {},
   "outputs": [],
   "source": [
    "class laptop:\n",
    "    price=0\n",
    "    processor=\"\"\n",
    "    ram=\"\"\n",
    "    \n",
    "\n",
    "hp=laptop()\n",
    "Dell=laptop()\n",
    "Lenovo=laptop()\n",
    "\n",
    "hp.price=50000\n",
    "hp.processor=\"i3\"\n",
    "hp.ram=\"8GB\"\n",
    "\n",
    "Dell.price=30000\n",
    "Dell.processor=\"i4\"\n",
    "Dell.ram=\"12GB\"\n",
    "\n",
    "Lenovo.price=70000\n",
    "Lenovo.processor=\"i5\"\n",
    "Lenovo.ram=\"16GB\"\n",
    "\n",
    "print (hp.ram)\n",
    "print(Dell.price)"
   ]
  },
  {
   "cell_type": "markdown",
   "metadata": {},
   "source": []
  },
  {
   "cell_type": "markdown",
   "metadata": {},
   "source": [
    "#### using constructor and self keyword"
   ]
  },
  {
   "cell_type": "code",
   "execution_count": null,
   "metadata": {},
   "outputs": [],
   "source": [
    "class laptop:\n",
    "    def __init__(self):\n",
    "        print(\"demo\")\n",
    "    def display(self):\n",
    "        print(\"display\")\n",
    "hp=laptop()\n"
   ]
  },
  {
   "cell_type": "code",
   "execution_count": null,
   "metadata": {},
   "outputs": [],
   "source": [
    "class laptop:\n",
    "    price=0\n",
    "    ram=\"\"\n",
    "    def __init__(self):\n",
    "        print(\"demo\")\n",
    "    def display(self):\n",
    "        print(\"display\")\n",
    "hp=laptop()\n",
    "hp.price=50000\n",
    "print(hp.price)"
   ]
  },
  {
   "cell_type": "markdown",
   "metadata": {},
   "source": [
    "instead use constructor to define vlaue"
   ]
  },
  {
   "cell_type": "code",
   "execution_count": null,
   "metadata": {},
   "outputs": [],
   "source": [
    "class laptop:\n",
    "   \n",
    "    def __init__(self):\n",
    "       \n",
    "        self.ram=\"\"\n",
    "        self.processor=\"\"\n",
    "        print(\"__init__\")\n",
    "    def display(self):\n",
    "        print(\"ram:\",self.ram)\n",
    "        print(\"processor:\",self.processor)\n",
    "hp=laptop()\n",
    "\n",
    "hp.ram=\"8GB\"\n",
    "hp.processor=\"i3\"\n",
    "\n",
    "dell=laptop()\n",
    "dell.ram=\"16GB\"\n",
    "dell.processor=\"i5\"\n",
    "\n",
    "hp.display()\n",
    "dell.display()"
   ]
  },
  {
   "cell_type": "markdown",
   "metadata": {},
   "source": [
    "#### pass"
   ]
  },
  {
   "cell_type": "code",
   "execution_count": null,
   "metadata": {},
   "outputs": [],
   "source": [
    "class car:\n",
    "    pass"
   ]
  },
  {
   "cell_type": "code",
   "execution_count": null,
   "metadata": {},
   "outputs": [],
   "source": [
    "x=lambda a,b:a+b\n",
    "print(x(5,6))"
   ]
  },
  {
   "cell_type": "code",
   "execution_count": null,
   "metadata": {},
   "outputs": [],
   "source": [
    "def add(a,b):\n",
    "    print(\"a+b\")\n",
    "    return a+b\n",
    "    \n",
    "\n",
    "x=10\n",
    "y=6\n",
    "add(x,y)"
   ]
  },
  {
   "cell_type": "markdown",
   "metadata": {},
   "source": [
    "create a class student,create variable name and regno using constructor.CREAATE A display func that prints the value"
   ]
  },
  {
   "cell_type": "code",
   "execution_count": null,
   "metadata": {},
   "outputs": [],
   "source": [
    "class Student:\n",
    "    def __init__(self):\n",
    "        self.name=\"RAMESH\"\n",
    "        self.regno=\"21CS134\"\n",
    "    def display(self):\n",
    "        print(\"name\",self.name)\n",
    "        print(\"regno\",self.regno)\n",
    "\n",
    "s1=Student()\n",
    "s2=Student()\n",
    "s1.name=\"manoj\"\n",
    "s1.regno=\"1\"\n",
    "\n",
    "s2.name=\"karthi\"\n",
    "s2.regno=\"2\"\n",
    "\n",
    "\n",
    "s1.display()\n",
    "s2.display()"
   ]
  },
  {
   "cell_type": "markdown",
   "metadata": {},
   "source": [
    "create a class fruit,create a varibale colour,create a object called apple pass color through object"
   ]
  },
  {
   "cell_type": "code",
   "execution_count": null,
   "metadata": {},
   "outputs": [],
   "source": [
    "class Fruit:\n",
    "    def __init__(self,color):\n",
    "        self.color=\"orange\"\n",
    "apple=Fruit()\n",
    "apple.color=\"red\"\n",
    "print(apple.color) #prints red\n",
    "#but according to question\n",
    "class Fruit:\n",
    "    def __init__(self):\n",
    "        self.color=\"orange\"\n",
    "apple=Fruit(\"red\")\n",
    "\n",
    "print(apple.color) "
   ]
  },
  {
   "cell_type": "code",
   "execution_count": null,
   "metadata": {},
   "outputs": [],
   "source": [
    "#therefor for above mistake\n",
    "class Fruit:\n",
    "    def __init__(self,col):\n",
    "        self.color=col\n",
    "apple=Fruit(\"red\")\n",
    "\n",
    "print(apple.color)  #prints red"
   ]
  },
  {
   "cell_type": "markdown",
   "metadata": {},
   "source": [
    "create a class called teacher craete a variable name  and regno using constructor ,create a function called display which display the  name and regno of the teacher.create t1 and t2 onject  and pass the name and reg no value through object"
   ]
  },
  {
   "cell_type": "code",
   "execution_count": null,
   "metadata": {},
   "outputs": [],
   "source": [
    "class teacher:\n",
    "    def __init__(self, nam, reg):\n",
    "        self.name=nam\n",
    "        self.regno=reg\n",
    "    def display(self):\n",
    "        print(\"name:\",self.name)\n",
    "        print(\"regno:\",self.regno)\n",
    "t1=teacher(\"reena\",\"21\")\n",
    "t2=teacher(\"meenakshi\",\"24\")\n",
    "t1.display()\n",
    "t2.display()   \n",
    "        "
   ]
  },
  {
   "cell_type": "markdown",
   "metadata": {},
   "source": [
    "create a class called calculator,create 2 variables a and b and function called ADD,SUB,MUL,DIV all func should take 2 variables as parameters.pass a and b value through object\n",
    "."
   ]
  },
  {
   "cell_type": "code",
   "execution_count": null,
   "metadata": {},
   "outputs": [],
   "source": [
    "class calculator:\n",
    "    def __init__(self,a,b):\n",
    "       self.a = a\n",
    "       self.b = b\n",
    "    def ADD(self):\n",
    "        print(\"ADD\",self.a+self.b)\n",
    "    def SUB(self):\n",
    "        print(\"SUB\",self.a-self.b)\n",
    "    def MUL(self):\n",
    "        print(\"MUL\",self.a*self.b)    \n",
    "    def DIV(self):\n",
    "        print(\"DIV\",self.a/self.b)    \n",
    "\n",
    "obj=calculator(10,15)\n",
    "\n",
    "obj.ADD()\n",
    "obj.SUB()\n",
    "obj.DIV()\n",
    "obj.MUL()"
   ]
  },
  {
   "cell_type": "code",
   "execution_count": null,
   "metadata": {},
   "outputs": [],
   "source": [
    "### TYPES OF CLASS VARIABlES"
   ]
  },
  {
   "cell_type": "code",
   "execution_count": null,
   "metadata": {},
   "outputs": [],
   "source": [
    "class phone():\n",
    "    def __init__(self,brand,price,chargertype):\n",
    "        self.brand=brand\n",
    "        self.price=price\n",
    "        self.chargertype=chargertype\n",
    "    def display(self):\n",
    "        print(f\"Brand: {self.brand}\")\n",
    "        print(f\"Price: {self.price}\")\n",
    "        print(f\"Charge Type: {self.chargertype}\")\n",
    "        \n",
    "samsung=phone(\"Samsung\",\"50000\",\"B-TYPE\")\n",
    "samsung.display()"
   ]
  },
  {
   "cell_type": "markdown",
   "metadata": {},
   "source": [
    "#### TYPES OF CLASS METHODS"
   ]
  },
  {
   "cell_type": "code",
   "execution_count": null,
   "metadata": {},
   "outputs": [],
   "source": [
    "class laptop:\n",
    "    chargertype=\"C-TYPE\"\n",
    "    def __init__(self):\n",
    "        self.brand=\"\"\n",
    "        self.price=34\n",
    "    def setPrice(self,price):\n",
    "        self.price=price\n",
    "    def getPrice(self): #instance method\n",
    "        print(self.price)\n",
    "    @classmethod\n",
    "    def changecharger(cls): #class method\n",
    "        cls.charger=\"B_TYPE\"\n",
    "        print(\"charger\",cls.charger)\n",
    "    @staticmethod\n",
    "    def info():\n",
    "        print(\"laptop\")\n",
    "\n",
    "hp=laptop()\n",
    "#if i create a setprice() and add value \n",
    "hp.setPrice(2000000)\n",
    "\n",
    "hp.getPrice() #before setprice() 34 after setprice(200000)\n",
    "#200000 is printed \n",
    "#laptop.changecharger(laptop) #charger B_TYPE or use decorator\n",
    "\n",
    "laptop.changecharger() #charger B_TYPE\n",
    "hp.info()\n"
   ]
  },
  {
   "cell_type": "markdown",
   "metadata": {},
   "source": [
    "\n",
    "### Python Inheritance\n",
    "Inheritance allows us to define a class that inherits all the methods and properties from another class.\n",
    "\n",
    "Parent class is the class being inherited from, also called base class.\n",
    "\n",
    "Child class is the class that inherits from another class, also called derived class."
   ]
  },
  {
   "cell_type": "markdown",
   "metadata": {},
   "source": [
    "#### Create a Parent Class\n",
    "Any class can be a parent class, so the syntax is the same as creating any other class:"
   ]
  },
  {
   "cell_type": "code",
   "execution_count": null,
   "metadata": {},
   "outputs": [],
   "source": [
    "class dad():\n",
    "    def phone(self):\n",
    "        print(\"Dads phone\")\n",
    "\n",
    "class son(dad):\n",
    "    def laptop(self):\n",
    "        print(\"son's laptop\")\n",
    "\n",
    "ram=son()\n",
    "ram.laptop() #son's laptop\n",
    "ram.phone() #dads phone use dad in class son\n"
   ]
  },
  {
   "cell_type": "markdown",
   "metadata": {},
   "source": [
    "### Multiple inheritance\n",
    "one class can access properties of 2 classes"
   ]
  },
  {
   "cell_type": "code",
   "execution_count": null,
   "metadata": {},
   "outputs": [],
   "source": [
    "class dad():\n",
    "    def phone(self):\n",
    "        print(\"Dads phone\")\n",
    "class mom(dad):\n",
    "    def sweet(self):\n",
    "        print(\"mom's sweet\")\n",
    "\n",
    "class son(mom):\n",
    "    def laptop(self):\n",
    "        print(\"son's laptop\")\n",
    "\n",
    "ram=son()\n",
    "ram.laptop() #son's laptop\n",
    "ram.phone() #dads phone use dad in class son\n",
    "ram.sweet() #mom's sweet use dad,mom in son class\n",
    "m=mom()\n",
    "m.phone()\n"
   ]
  },
  {
   "cell_type": "markdown",
   "metadata": {},
   "source": [
    "### MULTILEVEL INHERITANCE"
   ]
  },
  {
   "cell_type": "code",
   "execution_count": null,
   "metadata": {},
   "outputs": [],
   "source": [
    "class grandad():\n",
    "    def phone(self):\n",
    "        print(\"Grandad's phone\")\n",
    "class dad(grandad):\n",
    "    def money(self):\n",
    "        print(\"dad's money\")\n",
    "\n",
    "class son(dad,grandad):\n",
    "    def laptop(self):\n",
    "        print(\"son's laptop\")\n",
    "\n",
    "ram=son()\n",
    "ram.laptop() #son's laptop\n",
    "ram.money() #dad's money use dad in son class\n",
    "\n",
    "d1=dad()\n",
    "ram.phone() #grandads phone use grandad in class dad\n",
    "d1.phone()\n"
   ]
  },
  {
   "cell_type": "markdown",
   "metadata": {},
   "source": [
    "### HIERARCHIAL INHERITAANCE"
   ]
  },
  {
   "cell_type": "markdown",
   "metadata": {},
   "source": []
  },
  {
   "cell_type": "code",
   "execution_count": null,
   "metadata": {},
   "outputs": [],
   "source": [
    "class dad():\n",
    "    def money(self):\n",
    "        print(\"DAD money\")\n",
    "\n",
    "class son1(dad):\n",
    "    pass\n",
    "\n",
    "class son2(dad):\n",
    "    pass\n",
    "\n",
    "class son3(dad):\n",
    "    pass\n",
    "\n",
    "s2=son2()\n",
    "s2.money()"
   ]
  },
  {
   "cell_type": "markdown",
   "metadata": {},
   "source": [
    "### HYBRID INHERITANCE"
   ]
  },
  {
   "cell_type": "code",
   "execution_count": null,
   "metadata": {},
   "outputs": [],
   "source": [
    "class dad():\n",
    "    def money(self):\n",
    "        print(\"DAD money\")\n",
    "class land():\n",
    "    def importance(self):\n",
    "        print(\"important land\")\n",
    "\n",
    "class son1(dad,land):\n",
    "    pass\n",
    "class son2(dad):\n",
    "    pass\n",
    "\n",
    "class son3(son1):\n",
    "    pass\n",
    "\n",
    "s1=son1()\n",
    "s1.money()\n",
    "s1.importance()\n",
    "s3=son3()\n",
    "s3.money()\n",
    "#son1 son2 and son2 to dad heirarchical +multiple = hybrid "
   ]
  },
  {
   "cell_type": "markdown",
   "metadata": {},
   "source": [
    "### SUPER KEYWORD"
   ]
  },
  {
   "cell_type": "code",
   "execution_count": null,
   "metadata": {},
   "outputs": [],
   "source": [
    "class a():\n",
    "    def __init__(self):\n",
    "        print(\"A\")\n",
    "    def display(self):\n",
    "        print(\"Youre in class a!\")\n",
    "class b():\n",
    "    def  __init__(self):\n",
    "        print(\"B\")\n",
    "\n",
    "    def display(self):\n",
    "        print(\"Youre in class b!\")\n",
    "    \n",
    "obj=a()#a\n",
    "onj=b() #b"
   ]
  },
  {
   "cell_type": "code",
   "execution_count": null,
   "metadata": {},
   "outputs": [],
   "source": [
    "#inherit a\n",
    "class a():\n",
    "    def __init__(self):\n",
    "        print(\"A\")\n",
    "    def display(self):\n",
    "        print(\"Youre in class a!\")\n",
    "class b(a):\n",
    "    \n",
    "    def display(self):\n",
    "        print(\"Youre in class b!\")\n",
    "onj=b() #A return parents constructor"
   ]
  },
  {
   "cell_type": "code",
   "execution_count": null,
   "metadata": {},
   "outputs": [],
   "source": [
    "#use super keyword to inherit constructor from a\n",
    "class a():\n",
    "    def __init__(self):\n",
    "        print(\"A\")\n",
    "    def display(self):\n",
    "        print(\"Youre in class a!\")\n",
    "class b(a):\n",
    "    def  __init__(self):\n",
    "        super().__init__()\n",
    "        print(\"B\")\n",
    "    def display(self):\n",
    "        print(\"Youre in class b!\")\n",
    "onj=b()"
   ]
  },
  {
   "cell_type": "code",
   "execution_count": null,
   "metadata": {},
   "outputs": [],
   "source": [
    "class a():\n",
    "    def __init__(self):\n",
    "        print(\"A\")\n",
    "    def display(self):\n",
    "        print(\"Youre in class a!\")\n",
    "class b():\n",
    "    def  __init__(self):\n",
    "        print(\"B\")\n",
    "    def display(self):\n",
    "        print(\"Youre in class b!\")\n",
    "class c(a,b):\n",
    "    def __init__(self):\n",
    "        super().__init__()\n",
    "        print(\"C\")\n",
    "    def display(self):\n",
    "        print(\"Youre in class c!\")\n",
    "            \n",
    "#onj=b()\n",
    "ob=c() # A C"
   ]
  },
  {
   "cell_type": "code",
   "execution_count": null,
   "metadata": {},
   "outputs": [],
   "source": [
    "import random \n",
    "print(random.randrange(1,101))"
   ]
  }
 ],
 "metadata": {
  "language_info": {
   "name": "python"
  }
 },
 "nbformat": 4,
 "nbformat_minor": 2
}
