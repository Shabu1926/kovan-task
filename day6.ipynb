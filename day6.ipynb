{
 "cells": [
  {
   "cell_type": "markdown",
   "metadata": {},
   "source": [
    "### POLYMORPHISM\n",
    "having many forms ,it has same function being used for different types.the key differnce is the data type and number of  arguments used in function\n"
   ]
  },
  {
   "cell_type": "code",
   "execution_count": null,
   "metadata": {},
   "outputs": [],
   "source": [
    "def add():\n",
    "    print(\"addd\")\n",
    "    \n",
    "add()\n",
    "#if\n",
    "def add(a,b):\n",
    "    print(a+b)\n",
    "    \n",
    "add(10,20)\n",
    "\n",
    "def add(a=10):\n",
    "    print(a)\n",
    "    \n",
    "add(50)\n",
    "\n",
    "def add(a,b,c=0):\n",
    "    print(a+b+c)\n",
    "\n",
    "add(1,2) \n",
    "add(1,2,3)"
   ]
  },
  {
   "cell_type": "markdown",
   "metadata": {},
   "source": [
    "create a class called animal with a method sound() that prints \"ANIMAL makes a sound\" .create a derived class called Dog that inherits from Animal andoverrides the sound() methos to print \"dog Barks\".Create another derived class called Bird that inherts from Animal and override the sound() method to print \"Birds Sing\" "
   ]
  },
  {
   "cell_type": "code",
   "execution_count": null,
   "metadata": {},
   "outputs": [],
   "source": [
    "class Animal():\n",
    "    def sound(self):\n",
    "        print(\"The animal makes a sound\")\n",
    "\n",
    "class Dog(Animal):\n",
    "    def sound(self):\n",
    "        print(\"The dog barks\")\n",
    "class Bird(Animal):\n",
    "    def sound(self):\n",
    "        print(\"The bird chirps\")\n",
    "\n",
    "d=Dog()\n",
    "b=Bird()\n",
    "a=Animal()\n",
    "d.sound()\n",
    "b.sound()\n",
    "a.sound()"
   ]
  },
  {
   "cell_type": "markdown",
   "metadata": {},
   "source": [
    "create a base class shape method area() that return 0 .create derived class Rectangle that inherits  from shape and overrides the area() method to calculate and return area of the rectangle\n"
   ]
  },
  {
   "cell_type": "code",
   "execution_count": null,
   "metadata": {},
   "outputs": [],
   "source": [
    "class Shape():\n",
    "    def area(self):\n",
    "        return 0\n",
    "class Rectangle(Shape):\n",
    "    def area(self):\n",
    "        l=20\n",
    "        b=30\n",
    "        return (l*b)\n",
    "s=Shape()\n",
    "print(s.area())\n",
    "   \n",
    "r=Rectangle()\n",
    "r.area()\n"
   ]
  },
  {
   "cell_type": "markdown",
   "metadata": {},
   "source": [
    "create a base class called Person with a constructir that takes a name as a parameter .create derived class called Students that inherits from Person and has a constructor that takes a parameter called grade.write a method in Student to display the name and use super keyword to achieve this"
   ]
  },
  {
   "cell_type": "code",
   "execution_count": null,
   "metadata": {},
   "outputs": [],
   "source": [
    "class Person():\n",
    "    def __init__(self, name):\n",
    "        self.name=name\n",
    "    def display(self): \n",
    "        print(self.name)\n",
    "        \n",
    "\n",
    "class Students(Person):\n",
    "    def __init__(self,name,grade):\n",
    "        super().__init__(name)\n",
    "        self.grade=grade\n",
    "    def display(self):\n",
    "        print(self.name,self.grade)\n",
    "\n",
    "#p=Person(\"john\")\n",
    "#p.display()  \n",
    "s=Students(\"John\",\"A-Grade\")\n",
    "s.display()\n",
    "        "
   ]
  },
  {
   "cell_type": "markdown",
   "metadata": {},
   "source": [
    "create a base class calledVehicle eith a method start() that  prints \"vehicle strated\".create a derived class called CAR  that ingerits from venhicle and overrides the start() method to print \"car started\""
   ]
  },
  {
   "cell_type": "code",
   "execution_count": null,
   "metadata": {},
   "outputs": [],
   "source": [
    "class Vehicle():\n",
    "    def start(self):\n",
    "        print(\"vehicle started\")\n",
    "class Car(Vehicle):\n",
    "    def start(self):\n",
    "        print(\"car started\")\n",
    "v=Vehicle()\n",
    "c=Car()\n",
    "v.start()\n",
    "c.start()"
   ]
  },
  {
   "cell_type": "markdown",
   "metadata": {},
   "source": [
    "create a base class called Employee woth properties name and salary .create a derived class called MAnager that inherits from Employee and adds a property department.Write a methos in MAnager to display the name,salary and department of the manager"
   ]
  },
  {
   "cell_type": "code",
   "execution_count": null,
   "metadata": {},
   "outputs": [],
   "source": [
    "class Employee():\n",
    "    def __init__(self, name, salary):\n",
    "        self.name=name\n",
    "        self.salary=salary\n",
    "    \n",
    "class Manager(Employee):\n",
    "    def __init__(self,name,salary,department):\n",
    "        super().__init__(name,salary)\n",
    "        self.department=department\n",
    "    def display(self):\n",
    "        print(f\"name: {self.name}\")\n",
    "        print(f\"salary: {self.salary}\")\n",
    "        print(f\"Department: {self.department}\")\n",
    "\n",
    "m=Manager(\"John\",\"50000\",\"CSE\")\n",
    "m.display()\n",
    "\n"
   ]
  },
  {
   "cell_type": "code",
   "execution_count": null,
   "metadata": {},
   "outputs": [],
   "source": [
    "### ENCAPSULATION"
   ]
  },
  {
   "cell_type": "code",
   "execution_count": null,
   "metadata": {},
   "outputs": [],
   "source": [
    "class company():\n",
    "    def __init__(self):\n",
    "        self.companyname=\"Google\"\n",
    "\n",
    "c=company()\n",
    "c.companyname=\"Microsoft\" #anyone can rewrite\n",
    "print(c.companyname)\n"
   ]
  },
  {
   "cell_type": "markdown",
   "metadata": {},
   "source": [
    "## Access modifiers\n",
    "#### __ =>private\n",
    "#### no underscore =>public\n",
    "#### _ =>protected (child class that inherits it and the class varibale can access it )"
   ]
  },
  {
   "cell_type": "code",
   "execution_count": null,
   "metadata": {},
   "outputs": [],
   "source": [
    "class company():\n",
    "    def __init__(self):\n",
    "        self.__companyname=\"Google\" #__varibale name ==>private variable\n",
    "    def companyname(self):\n",
    "        print(self.__companyname)#only can be accessed inside class\n",
    "        \n",
    "\n",
    "c=company()\n",
    "c.companyname()  #google only able to view it using this can print __companyname variable\n",
    "print(c.__companyname)"
   ]
  },
  {
   "cell_type": "code",
   "execution_count": null,
   "metadata": {},
   "outputs": [],
   "source": [
    "#protected example\n",
    "class company():\n",
    "    def __init__(self):\n",
    "        self._companyname=\"Google\"\n",
    "class b(company):\n",
    "    pass\n",
    "b1=b()\n",
    "print(b1._companyname) #protected\n",
    "\n",
    "\n"
   ]
  },
  {
   "cell_type": "markdown",
   "metadata": {},
   "source": [
    "### ABSTRACTION\n",
    "hiding the unnecessary details"
   ]
  },
  {
   "cell_type": "code",
   "execution_count": null,
   "metadata": {},
   "outputs": [],
   "source": [
    "from abc import ABC,abstractmethod\n",
    "class car(ABC):\n",
    "    @abstractmethod\n",
    "    def mf(self):\n",
    "        pass\n",
    "    @abstractmethod\n",
    "    def mb(self):\n",
    "        print(\"hello\")\n",
    "    @abstractmethod\n",
    "    def fm(self):\n",
    "        pass\n",
    "class swift(car):\n",
    "    \n",
    "    def mf(self):\n",
    "        print(\"swift is a moving forward\")\n",
    "    def mb(self):\n",
    "        print(\"swift is a moving backward\")\n",
    "    def fm(self):\n",
    "        print(\"swift is a fast moving\")\n",
    "\n",
    "class innova(car):\n",
    "    def mf(self):\n",
    "        print(\"innove is a moving forward\")\n",
    "    def mb(self):\n",
    "        print(\"innova is a moving backward\")\n",
    "    def fm(self):\n",
    "        print(\"innova is a fast moving\")\n",
    "s=swift()\n",
    "s.mb()"
   ]
  },
  {
   "cell_type": "code",
   "execution_count": null,
   "metadata": {},
   "outputs": [],
   "source": [
    "from abc import ABC\n",
    "class dad(ABC):\n",
    "    \n",
    "    def hello(self):\n",
    "        print(\"Hello, I am a dad\")\n",
    "\n",
    "class child(dad):\n",
    "    def __init__(self):\n",
    "        print(\"child constructor\")\n",
    "    def hello(self):\n",
    "        print(\"Hello, I am a child\")\n",
    "        \n",
    "c=child()\n",
    "c.hello()\n",
    "\n",
    "        "
   ]
  },
  {
   "cell_type": "markdown",
   "metadata": {},
   "source": [
    "# EXCEPTION HANDLING\n"
   ]
  },
  {
   "cell_type": "code",
   "execution_count": null,
   "metadata": {},
   "outputs": [],
   "source": [
    "#compile time error\n",
    "# error while python reading each line\n",
    "print(\"hi\")\n",
    "print(\"hey\")\n",
    "printt(\"how\") #coz error  Nameerror\n",
    "# logical error\n",
    "a=10\n",
    "b=20\n",
    "print(a+a)\n",
    "\n"
   ]
  },
  {
   "cell_type": "code",
   "execution_count": null,
   "metadata": {},
   "outputs": [],
   "source": [
    "a=int(input())\n",
    "b=int(input())\n",
    "print(a+b) # a= 10 b=\"hi\" =>valueerror runtime error "
   ]
  },
  {
   "cell_type": "code",
   "execution_count": null,
   "metadata": {},
   "outputs": [],
   "source": [
    "#hence use try except\n",
    "try:\n",
    "    a=int(input())\n",
    "    b=int(input())\n",
    "    print(a+b)\n",
    "except ValueError():\n",
    "    print(\"invalid\")"
   ]
  }
 ],
 "metadata": {
  "kernelspec": {
   "display_name": "Python 3",
   "language": "python",
   "name": "python3"
  },
  "language_info": {
   "name": "python",
   "version": "3.10.11"
  }
 },
 "nbformat": 4,
 "nbformat_minor": 2
}
