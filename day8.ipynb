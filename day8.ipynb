{
 "cells": [
  {
   "cell_type": "markdown",
   "metadata": {},
   "source": [
    "# JSON handling\n",
    "JSON  (JavaScript Object Notation) is a file that is mainly used to store and transfer data mostly between a server and a web application.\n",
    "\n"
   ]
  },
  {
   "cell_type": "code",
   "execution_count": 1,
   "metadata": {},
   "outputs": [],
   "source": [
    "# importing json module\n",
    "import json"
   ]
  },
  {
   "cell_type": "markdown",
   "metadata": {},
   "source": [
    "#### Data Types in JSON:\n",
    "\n",
    "String: Text enclosed in double quotes. Example: \"hello\"\n",
    "Number: Numeric values. Example: 42, 3.14\n",
    "Boolean: true or false\n",
    "Null: Represents an empty or non-existent value: null\n",
    "Array: Ordered list of values: [1, 2, \"three\"]\n",
    "Object: Collection of key-value pairs: {\"key\": \"value\"}\n"
   ]
  },
  {
   "cell_type": "markdown",
   "metadata": {},
   "source": [
    "#### Parsing JSON String\n",
    "The loads() method is used to parse JSON strings in Python and the result will be a Python dictionary.\n",
    "\n",
    "Syntax:\n",
    "\n",
    "json.loads(json_string)"
   ]
  },
  {
   "cell_type": "code",
   "execution_count": 2,
   "metadata": {},
   "outputs": [
    {
     "name": "stdout",
     "output_type": "stream",
     "text": [
      "Data after conversion\n",
      "{'name': 'Nitin', 'department': 'Finance', 'company': 'GFG'}\n",
      "Finance\n",
      "\n",
      "Type of data\n",
      "<class 'dict'>\n"
     ]
    }
   ],
   "source": [
    "# Python program to convert JSON to Dict\n",
    "\n",
    "\n",
    "import json\n",
    "\n",
    "# JSON string\n",
    "employee ='{\"name\": \"Nitin\", \"department\":\"Finance\",\\\n",
    "\"company\":\"GFG\"}'\n",
    "\n",
    "# Convert string to Python dict\n",
    "employee_dict = json.loads(employee)\n",
    "print(\"Data after conversion\")\n",
    "print(employee_dict)\n",
    "print(employee_dict['department'])\n",
    "\n",
    "print(\"\\nType of data\")\n",
    "print(type(employee_dict))\n"
   ]
  },
  {
   "cell_type": "markdown",
   "metadata": {},
   "source": [
    "#### Reading JSON file\n",
    "load() method can read a file that contains a JSON object. Suppose you have a file named student.json that contains student data and we want to read that file.\n",
    "\n",
    "Syntax:\n",
    "\n",
    "json.load(file_object)\n",
    "\n",
    "to do file handling in json file \n",
    "[text](https://www.geeksforgeeks.org/read-json-file-using-python/)"
   ]
  },
  {
   "cell_type": "code",
   "execution_count": 3,
   "metadata": {},
   "outputs": [
    {
     "ename": "FileNotFoundError",
     "evalue": "[Errno 2] No such file or directory: 'data.json'",
     "output_type": "error",
     "traceback": [
      "\u001b[1;31m---------------------------------------------------------------------------\u001b[0m",
      "\u001b[1;31mFileNotFoundError\u001b[0m                         Traceback (most recent call last)",
      "Cell \u001b[1;32mIn[3], line 8\u001b[0m\n\u001b[0;32m      5\u001b[0m \u001b[38;5;28;01mimport\u001b[39;00m \u001b[38;5;21;01mjson\u001b[39;00m\n\u001b[0;32m      7\u001b[0m \u001b[38;5;66;03m# Opening JSON file\u001b[39;00m\n\u001b[1;32m----> 8\u001b[0m f \u001b[38;5;241m=\u001b[39m \u001b[38;5;28;43mopen\u001b[39;49m\u001b[43m(\u001b[49m\u001b[38;5;124;43m'\u001b[39;49m\u001b[38;5;124;43mdata.json\u001b[39;49m\u001b[38;5;124;43m'\u001b[39;49m\u001b[43m,\u001b[49m\u001b[43m)\u001b[49m\n\u001b[0;32m     10\u001b[0m \u001b[38;5;66;03m# returns JSON object as\u001b[39;00m\n\u001b[0;32m     11\u001b[0m \u001b[38;5;66;03m# a dictionary\u001b[39;00m\n\u001b[0;32m     12\u001b[0m data \u001b[38;5;241m=\u001b[39m json\u001b[38;5;241m.\u001b[39mload(f)\n",
      "File \u001b[1;32m~\\AppData\\Local\\Packages\\PythonSoftwareFoundation.Python.3.10_qbz5n2kfra8p0\\LocalCache\\local-packages\\Python310\\site-packages\\IPython\\core\\interactiveshell.py:324\u001b[0m, in \u001b[0;36m_modified_open\u001b[1;34m(file, *args, **kwargs)\u001b[0m\n\u001b[0;32m    317\u001b[0m \u001b[38;5;28;01mif\u001b[39;00m file \u001b[38;5;129;01min\u001b[39;00m {\u001b[38;5;241m0\u001b[39m, \u001b[38;5;241m1\u001b[39m, \u001b[38;5;241m2\u001b[39m}:\n\u001b[0;32m    318\u001b[0m     \u001b[38;5;28;01mraise\u001b[39;00m \u001b[38;5;167;01mValueError\u001b[39;00m(\n\u001b[0;32m    319\u001b[0m         \u001b[38;5;124mf\u001b[39m\u001b[38;5;124m\"\u001b[39m\u001b[38;5;124mIPython won\u001b[39m\u001b[38;5;124m'\u001b[39m\u001b[38;5;124mt let you open fd=\u001b[39m\u001b[38;5;132;01m{\u001b[39;00mfile\u001b[38;5;132;01m}\u001b[39;00m\u001b[38;5;124m by default \u001b[39m\u001b[38;5;124m\"\u001b[39m\n\u001b[0;32m    320\u001b[0m         \u001b[38;5;124m\"\u001b[39m\u001b[38;5;124mas it is likely to crash IPython. If you know what you are doing, \u001b[39m\u001b[38;5;124m\"\u001b[39m\n\u001b[0;32m    321\u001b[0m         \u001b[38;5;124m\"\u001b[39m\u001b[38;5;124myou can use builtins\u001b[39m\u001b[38;5;124m'\u001b[39m\u001b[38;5;124m open.\u001b[39m\u001b[38;5;124m\"\u001b[39m\n\u001b[0;32m    322\u001b[0m     )\n\u001b[1;32m--> 324\u001b[0m \u001b[38;5;28;01mreturn\u001b[39;00m io_open(file, \u001b[38;5;241m*\u001b[39margs, \u001b[38;5;241m*\u001b[39m\u001b[38;5;241m*\u001b[39mkwargs)\n",
      "\u001b[1;31mFileNotFoundError\u001b[0m: [Errno 2] No such file or directory: 'data.json'"
     ]
    }
   ],
   "source": [
    "# Python program to read\n",
    "# json file\n",
    "\n",
    "\n",
    "import json\n",
    "\n",
    "# Opening JSON file\n",
    "f = open('data.json',)\n",
    "\n",
    "# returns JSON object as\n",
    "# a dictionary\n",
    "data = json.load(f)\n",
    "\n",
    "# Iterating through the json\n",
    "# list\n",
    "for i in data:\n",
    "\tprint(i)\n",
    "\n",
    "# Closing file\n",
    "f.close()\n"
   ]
  },
  {
   "cell_type": "markdown",
   "metadata": {},
   "source": [
    "# Python program to read\n",
    "# json file\n",
    "\n",
    "\n",
    "import json\n",
    "\n",
    "# Opening JSON file\n",
    "f = open('data.json',)\n",
    "\n",
    "# returns JSON object as\n",
    "# a dictionary\n",
    "data = json.load(f)\n",
    "\n",
    "# Iterating through the json\n",
    "# list\n",
    "for i in data:\n",
    "\tprint(i)\n",
    "\n",
    "# Closing file\n",
    "f.close()\n"
   ]
  },
  {
   "cell_type": "code",
   "execution_count": null,
   "metadata": {},
   "outputs": [],
   "source": [
    "# Python program to convert\n",
    "# Python to JSON\n",
    "\n",
    "\n",
    "import json\n",
    "\n",
    "# Data to be written\n",
    "dictionary = {\n",
    "\t\"name\": \"sunil\",\n",
    "\t\"department\": \"HR\",\n",
    "\t\"Company\": 'GFG'\n",
    "}\n",
    "\n",
    "# Serializing json\n",
    "json_object = json.dumps(dictionary)\n",
    "print(json_object[\"name\"])\n",
    "print(type(json_object))\n",
    "print(type(dictionary))"
   ]
  },
  {
   "cell_type": "code",
   "execution_count": null,
   "metadata": {},
   "outputs": [],
   "source": [
    "# Python program to write JSON\n",
    "# to a file\n",
    "\n",
    "\n",
    "import json\n",
    "\n",
    "# Data to be written\n",
    "dictionary ={\n",
    "\t\"name\" : \"Nisha\",\n",
    "\t\"rollno\" : 420,\n",
    "\t\"cgpa\" : 10.10,\n",
    "\t\"phonenumber\" : \"1234567890\"\n",
    "}\n",
    "\n",
    "with open(\"sample.json\", \"w\") as outfile:\n",
    "\tjson.dump(dictionary, outfile)\n"
   ]
  },
  {
   "cell_type": "markdown",
   "metadata": {},
   "source": [
    "##### indent\n",
    "to format json string"
   ]
  },
  {
   "cell_type": "code",
   "execution_count": null,
   "metadata": {},
   "outputs": [],
   "source": [
    "# Import required libraries\n",
    "import json\n",
    "\n",
    "# Initialize JSON data\n",
    "json_data = '[ {\"studentid\": 1, \"name\": \"Nikhil\", \"subjects\": [\"Python\", \"Data Structures\"]},\\\n",
    "{\"studentid\": 2, \"name\": \"Nisha\", \"subjects\": [\"Java\", \"C++\", \"R Lang\"]} ]'\n",
    "\n",
    "# Create Python object from JSON string \n",
    "# data\n",
    "data = json.loads(json_data)\n",
    "\n",
    "# Pretty Print JSON\n",
    "json_formatted_str = json.dumps(data, indent=4)\n",
    "print(json_formatted_str)\n",
    "print(type(json_formatted_str))\n"
   ]
  },
  {
   "cell_type": "code",
   "execution_count": null,
   "metadata": {},
   "outputs": [],
   "source": [
    "#sort_keys to sort json data\n",
    "# Import required libraries\n",
    "import json\n",
    "\n",
    "# Initialize JSON data\n",
    "json_data = '[ {\"studentid\": 1, \"name\": \"Nikhil\", \"subjects\":\\\n",
    "[\"Python\", \"Data Structures\"], \"company\":\"GFG\"},\\\n",
    "{\"studentid\": 2, \"name\": \"Nisha\", \"subjects\":\\\n",
    "[\"Java\", \"C++\", \"R Lang\"], \"company\":\"GFG\"} ]'\n",
    "\n",
    "# Create Python object from JSON string \n",
    "# data\n",
    "data = json.loads(json_data)\n",
    "\n",
    "# Pretty Print JSON\n",
    "json_formatted_str = json.dumps(data, indent=4, sort_keys=True)\n",
    "print(json_formatted_str)\n"
   ]
  },
  {
   "cell_type": "code",
   "execution_count": null,
   "metadata": {},
   "outputs": [],
   "source": [
    "#python\n",
    "dict1={\n",
    "    \"name\":\"shabana\",\"age\":20,\"place\":\"cbe\"\n",
    "}\n",
    "l=list(dict1)\n",
    "print(l)\n",
    "\n",
    "\n",
    "A = [\"jony\",22,\"chennai\"]\n",
    "\n",
    "\n",
    "'''\n",
    "dict[\"name\"]=\"jony\"\n",
    "dict[\"age\"]=22\n",
    "dict[\"place\"]=\"chennai\"\n",
    "'''\n",
    "dict2={\"name\":\"jony\",\"age\":20,\"place\":\"cbe\"}\n",
    "dict1.update(dict2)\n",
    "#print(dict1)\n",
    "\n",
    "dict1={\n",
    "    \"name\":\"shabana\",\"age\":20,\"place\":\"cbe\"\n",
    "}\n",
    "'''\n",
    "for x in dict1.keys():\n",
    "    for y in d:\n",
    "        print(dict(map(x,y))) \n",
    "\n",
    "'''\n",
    "\n",
    "\n",
    "myDict = { l:A for (l,A) in zip(l, A)}  \n",
    "\n",
    "\n",
    "print (myDict)\n",
    "\n",
    "\n",
    "    "
   ]
  }
 ],
 "metadata": {
  "kernelspec": {
   "display_name": "Python 3",
   "language": "python",
   "name": "python3"
  },
  "language_info": {
   "codemirror_mode": {
    "name": "ipython",
    "version": 3
   },
   "file_extension": ".py",
   "mimetype": "text/x-python",
   "name": "python",
   "nbconvert_exporter": "python",
   "pygments_lexer": "ipython3",
   "version": "3.10.11"
  }
 },
 "nbformat": 4,
 "nbformat_minor": 2
}
